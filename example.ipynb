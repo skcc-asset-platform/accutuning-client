{
 "cells": [
  {
   "cell_type": "code",
   "execution_count": 1,
   "id": "vertical-france",
   "metadata": {},
   "outputs": [],
   "source": [
    "from accutuning_client.client import Client"
   ]
  },
  {
   "cell_type": "code",
   "execution_count": 2,
   "id": "broken-plant",
   "metadata": {},
   "outputs": [],
   "source": [
    "client = Client('localhost', 8000)"
   ]
  },
  {
   "cell_type": "code",
   "execution_count": 3,
   "id": "compliant-library",
   "metadata": {},
   "outputs": [
    {
     "data": {
      "text/plain": [
       "True"
      ]
     },
     "execution_count": 3,
     "metadata": {},
     "output_type": "execute_result"
    }
   ],
   "source": [
    "client.login('autoinsight', 'autoinsight')"
   ]
  },
  {
   "cell_type": "code",
   "execution_count": 4,
   "id": "certain-forest",
   "metadata": {},
   "outputs": [
    {
     "name": "stdout",
     "output_type": "stream",
     "text": [
      "현재 Experiments는 총 5개 있습니다.\n"
     ]
    },
    {
     "data": {
      "text/plain": [
       "5 Experiments\n",
       "=======================\n",
       "Experiment(id=8, name=Experiment-8, dataset.name=iris1_52cCr52, dataset.colCount=5, status=finished, estimatorType=CLASSIFIER, metric=ACCURACY, modelsCnt=28)\n",
       "Experiment(id=4, name=Experiment-4, dataset.name=iris1_hqYy0kH, dataset.colCount=5, status=ready, estimatorType=CLASSIFIER, metric=ACCURACY)\n",
       "Experiment(id=3, name=Experiment-3, dataset.name=iris1_D5MRffN, dataset.colCount=5, status=finished, estimatorType=CLASSIFIER, metric=ACCURACY, modelsCnt=59, deploymentsCnt=2)\n",
       "Experiment(id=2, name=Experiment-2, dataset.name=iris1, dataset.colCount=5, status=finished, estimatorType=CLASSIFIER, metric=ACCURACY, modelsCnt=28)\n",
       "Experiment(id=1, name=Experiment-1, dataset.name=diabetes2, dataset.colCount=11, status=finished, estimatorType=REGRESSOR, metric=NEG_MEAN_SQUARED_ERROR, modelsCnt=52, deploymentsCnt=2)"
      ]
     },
     "execution_count": 4,
     "metadata": {},
     "output_type": "execute_result"
    }
   ],
   "source": [
    "# Experiment의 List를 불러온다.\n",
    "experiments = client.experiments()\n",
    "print(f'현재 Experiments는 총 {len(experiments)}개 있습니다.')\n",
    "experiments"
   ]
  },
  {
   "cell_type": "code",
   "execution_count": 5,
   "id": "accessory-retrieval",
   "metadata": {},
   "outputs": [
    {
     "data": {
      "text/plain": [
       "Experiment(id=9, name=Experiment-9, status=creating, estimatorType=classifier, metric=accuracy)"
      ]
     },
     "execution_count": 5,
     "metadata": {},
     "output_type": "execute_result"
    }
   ],
   "source": [
    "# Local File에서 Experiment를 생성한다. \n",
    "experiment_new = client.create_experiment_from_file('/Users/ahaljh/Downloads/iris1.csv')\n",
    "experiment_new"
   ]
  },
  {
   "cell_type": "code",
   "execution_count": 6,
   "id": "transsexual-antigua",
   "metadata": {},
   "outputs": [
    {
     "data": {
      "text/plain": [
       "Experiment(id=9, name=Experiment-9, dataset.name=iris1_13FrbNs, dataset.colCount=5, status=ready, estimatorType=CLASSIFIER, metric=ACCURACY)"
      ]
     },
     "execution_count": 6,
     "metadata": {},
     "output_type": "execute_result"
    }
   ],
   "source": [
    "experiment_new"
   ]
  },
  {
   "cell_type": "code",
   "execution_count": 7,
   "id": "copyrighted-congress",
   "metadata": {},
   "outputs": [],
   "source": [
    "# 전처리를 추천받아 preprocessor config를 변경 \n",
    "experiment_new.preprocessor_config_recommend()"
   ]
  },
  {
   "cell_type": "code",
   "execution_count": 8,
   "id": "magnetic-camping",
   "metadata": {},
   "outputs": [],
   "source": [
    "# 지정한 config 설정대로 전처리를 실시\n",
    "experiment_new.preprocess()"
   ]
  },
  {
   "cell_type": "code",
   "execution_count": 9,
   "id": "patient-timer",
   "metadata": {},
   "outputs": [
    {
     "data": {
      "text/plain": [
       "True"
      ]
     },
     "execution_count": 9,
     "metadata": {},
     "output_type": "execute_result"
    }
   ],
   "source": [
    "# Run AutoML\n",
    "experiment_new.run()"
   ]
  },
  {
   "cell_type": "code",
   "execution_count": 10,
   "id": "deluxe-croatia",
   "metadata": {},
   "outputs": [
    {
     "name": "stdout",
     "output_type": "stream",
     "text": [
      "현재 Experiments는 총 6개 있습니다.\n"
     ]
    },
    {
     "data": {
      "text/plain": [
       "6 Experiments\n",
       "=======================\n",
       "Experiment(id=9, name=Experiment-9, dataset.name=iris1_13FrbNs, dataset.colCount=5, status=learning, estimatorType=CLASSIFIER, metric=ACCURACY)\n",
       "Experiment(id=8, name=Experiment-8, dataset.name=iris1_52cCr52, dataset.colCount=5, status=finished, estimatorType=CLASSIFIER, metric=ACCURACY, modelsCnt=28)\n",
       "Experiment(id=4, name=Experiment-4, dataset.name=iris1_hqYy0kH, dataset.colCount=5, status=ready, estimatorType=CLASSIFIER, metric=ACCURACY)\n",
       "Experiment(id=3, name=Experiment-3, dataset.name=iris1_D5MRffN, dataset.colCount=5, status=finished, estimatorType=CLASSIFIER, metric=ACCURACY, modelsCnt=59, deploymentsCnt=2)\n",
       "Experiment(id=2, name=Experiment-2, dataset.name=iris1, dataset.colCount=5, status=finished, estimatorType=CLASSIFIER, metric=ACCURACY, modelsCnt=28)\n",
       "Experiment(id=1, name=Experiment-1, dataset.name=diabetes2, dataset.colCount=11, status=finished, estimatorType=REGRESSOR, metric=NEG_MEAN_SQUARED_ERROR, modelsCnt=52, deploymentsCnt=2)"
      ]
     },
     "execution_count": 10,
     "metadata": {},
     "output_type": "execute_result"
    }
   ],
   "source": [
    "# Experiment의 List를 불러온다.\n",
    "experiments = client.experiments()\n",
    "print(f'현재 Experiments는 총 {len(experiments)}개 있습니다.')\n",
    "experiments"
   ]
  },
  {
   "cell_type": "code",
   "execution_count": 11,
   "id": "sweet-logistics",
   "metadata": {},
   "outputs": [
    {
     "data": {
      "text/plain": [
       "Experiment(id=3, name=Experiment-3, dataset.name=iris1_D5MRffN, dataset.colCount=5, status=finished, estimatorType=CLASSIFIER, metric=ACCURACY, modelsCnt=59, deploymentsCnt=2)"
      ]
     },
     "execution_count": 11,
     "metadata": {},
     "output_type": "execute_result"
    }
   ],
   "source": [
    "# 시간이 오래 걸리니까 완료된 experiment를 다시 선택\n",
    "experiment = experiments.get(id=3)\n",
    "# experiment = experiments[1]  # 이 형태도 가능함\n",
    "experiment"
   ]
  },
  {
   "cell_type": "code",
   "execution_count": 12,
   "id": "incoming-warehouse",
   "metadata": {},
   "outputs": [
    {
     "name": "stdout",
     "output_type": "stream",
     "text": [
      "leaderboad의 model 갯수는 59\n"
     ]
    },
    {
     "data": {
      "text/plain": [
       "[{'id': '83',\n",
       "  'score': 1.0,\n",
       "  'trainScore': 0.9619047619047619,\n",
       "  'validScore': 1.0,\n",
       "  'testScore': 0.0,\n",
       "  'estimatorName': 'xgboost',\n",
       "  'generator': 'optuna-pycaret',\n",
       "  'file': {'size': '133448', 'sizeHumanized': '133.4 kB'},\n",
       "  'deployedStatus': 'DONE'},\n",
       " {'id': '86',\n",
       "  'score': 1.0,\n",
       "  'trainScore': 0.9619047619047619,\n",
       "  'validScore': 1.0,\n",
       "  'testScore': 0.0,\n",
       "  'estimatorName': 'logistic_regression',\n",
       "  'generator': 'optuna-pycaret',\n",
       "  'file': {'size': '2380', 'sizeHumanized': '2.4 kB'},\n",
       "  'deployedStatus': 'DONE'},\n",
       " {'id': '87',\n",
       "  'score': 1.0,\n",
       "  'trainScore': 0.9619047619047619,\n",
       "  'validScore': 1.0,\n",
       "  'testScore': 0.0,\n",
       "  'estimatorName': 'logistic_regression',\n",
       "  'generator': 'optuna-pycaret',\n",
       "  'file': {'size': '1533', 'sizeHumanized': '1.5 kB'},\n",
       "  'deployedStatus': None},\n",
       " {'id': '89',\n",
       "  'score': 1.0,\n",
       "  'trainScore': 0.9619047619047619,\n",
       "  'validScore': 1.0,\n",
       "  'testScore': 0.0,\n",
       "  'estimatorName': 'random_forest',\n",
       "  'generator': 'optuna-pycaret',\n",
       "  'file': {'size': '126661', 'sizeHumanized': '126.7 kB'},\n",
       "  'deployedStatus': None},\n",
       " {'id': '90',\n",
       "  'score': 1.0,\n",
       "  'trainScore': 0.9809523809523809,\n",
       "  'validScore': 1.0,\n",
       "  'testScore': 0.0,\n",
       "  'estimatorName': 'xgboost',\n",
       "  'generator': 'optuna-pycaret',\n",
       "  'file': {'size': '197629', 'sizeHumanized': '197.6 kB'},\n",
       "  'deployedStatus': None},\n",
       " {'id': '92',\n",
       "  'score': 1.0,\n",
       "  'trainScore': 1.0,\n",
       "  'validScore': 1.0,\n",
       "  'testScore': 0.0,\n",
       "  'estimatorName': 'lightgbm',\n",
       "  'generator': 'optuna-pycaret',\n",
       "  'file': {'size': '784667', 'sizeHumanized': '784.7 kB'},\n",
       "  'deployedStatus': None},\n",
       " {'id': '94',\n",
       "  'score': 1.0,\n",
       "  'trainScore': 0.9809523809523809,\n",
       "  'validScore': 1.0,\n",
       "  'testScore': 0.0,\n",
       "  'estimatorName': 'logistic_regression',\n",
       "  'generator': 'optuna-pycaret',\n",
       "  'file': {'size': '1535', 'sizeHumanized': '1.5 kB'},\n",
       "  'deployedStatus': None},\n",
       " {'id': '95',\n",
       "  'score': 1.0,\n",
       "  'trainScore': 0.9619047619047619,\n",
       "  'validScore': 1.0,\n",
       "  'testScore': 0.0,\n",
       "  'estimatorName': 'logistic_regression',\n",
       "  'generator': 'optuna-pycaret',\n",
       "  'file': {'size': '2396', 'sizeHumanized': '2.4 kB'},\n",
       "  'deployedStatus': None},\n",
       " {'id': '96',\n",
       "  'score': 1.0,\n",
       "  'trainScore': 1.0,\n",
       "  'validScore': 1.0,\n",
       "  'testScore': 0.0,\n",
       "  'estimatorName': 'gradient_boosting',\n",
       "  'generator': 'optuna-pycaret',\n",
       "  'file': {'size': '583395', 'sizeHumanized': '583.4 kB'},\n",
       "  'deployedStatus': None},\n",
       " {'id': '97',\n",
       "  'score': 1.0,\n",
       "  'trainScore': 0.9619047619047619,\n",
       "  'validScore': 1.0,\n",
       "  'testScore': 0.0,\n",
       "  'estimatorName': 'logistic_regression',\n",
       "  'generator': 'optuna-pycaret',\n",
       "  'file': {'size': '1533', 'sizeHumanized': '1.5 kB'},\n",
       "  'deployedStatus': None},\n",
       " {'id': '98',\n",
       "  'score': 1.0,\n",
       "  'trainScore': 0.9619047619047619,\n",
       "  'validScore': 1.0,\n",
       "  'testScore': 0.0,\n",
       "  'estimatorName': 'logistic_regression',\n",
       "  'generator': 'optuna-pycaret',\n",
       "  'file': {'size': '1240', 'sizeHumanized': '1.2 kB'},\n",
       "  'deployedStatus': None},\n",
       " {'id': '100',\n",
       "  'score': 1.0,\n",
       "  'trainScore': 0.9333333333333333,\n",
       "  'validScore': 1.0,\n",
       "  'testScore': 0.0,\n",
       "  'estimatorName': 'random_forest',\n",
       "  'generator': 'optuna-pycaret',\n",
       "  'file': {'size': '80967', 'sizeHumanized': '81.0 kB'},\n",
       "  'deployedStatus': None},\n",
       " {'id': '101',\n",
       "  'score': 1.0,\n",
       "  'trainScore': 0.9523809523809523,\n",
       "  'validScore': 1.0,\n",
       "  'testScore': 0.0,\n",
       "  'estimatorName': 'xgboost',\n",
       "  'generator': 'optuna-pycaret',\n",
       "  'file': {'size': '170535', 'sizeHumanized': '170.5 kB'},\n",
       "  'deployedStatus': None},\n",
       " {'id': '102',\n",
       "  'score': 1.0,\n",
       "  'trainScore': 0.9714285714285714,\n",
       "  'validScore': 1.0,\n",
       "  'testScore': 0.0,\n",
       "  'estimatorName': 'random_forest',\n",
       "  'generator': 'optuna-pycaret',\n",
       "  'file': {'size': '125664', 'sizeHumanized': '125.7 kB'},\n",
       "  'deployedStatus': None},\n",
       " {'id': '103',\n",
       "  'score': 1.0,\n",
       "  'trainScore': 0.9333333333333333,\n",
       "  'validScore': 1.0,\n",
       "  'testScore': 0.0,\n",
       "  'estimatorName': 'random_forest',\n",
       "  'generator': 'optuna-pycaret',\n",
       "  'file': {'size': '83367', 'sizeHumanized': '83.4 kB'},\n",
       "  'deployedStatus': None},\n",
       " {'id': '104',\n",
       "  'score': 1.0,\n",
       "  'trainScore': 0.9428571428571428,\n",
       "  'validScore': 1.0,\n",
       "  'testScore': 0.0,\n",
       "  'estimatorName': 'random_forest',\n",
       "  'generator': 'optuna-pycaret',\n",
       "  'file': {'size': '102602', 'sizeHumanized': '102.6 kB'},\n",
       "  'deployedStatus': None},\n",
       " {'id': '105',\n",
       "  'score': 1.0,\n",
       "  'trainScore': 0.9523809523809523,\n",
       "  'validScore': 1.0,\n",
       "  'testScore': 0.0,\n",
       "  'estimatorName': 'random_forest',\n",
       "  'generator': 'optuna-pycaret',\n",
       "  'file': {'size': '109832', 'sizeHumanized': '109.8 kB'},\n",
       "  'deployedStatus': None},\n",
       " {'id': '106',\n",
       "  'score': 1.0,\n",
       "  'trainScore': 0.9619047619047619,\n",
       "  'validScore': 1.0,\n",
       "  'testScore': 0.0,\n",
       "  'estimatorName': 'random_forest',\n",
       "  'generator': 'optuna-pycaret',\n",
       "  'file': {'size': '109954', 'sizeHumanized': '110.0 kB'},\n",
       "  'deployedStatus': None},\n",
       " {'id': '107',\n",
       "  'score': 1.0,\n",
       "  'trainScore': 0.9428571428571428,\n",
       "  'validScore': 1.0,\n",
       "  'testScore': 0.0,\n",
       "  'estimatorName': 'random_forest',\n",
       "  'generator': 'optuna-pycaret',\n",
       "  'file': {'size': '98442', 'sizeHumanized': '98.4 kB'},\n",
       "  'deployedStatus': None},\n",
       " {'id': '108',\n",
       "  'score': 1.0,\n",
       "  'trainScore': 0.9523809523809523,\n",
       "  'validScore': 1.0,\n",
       "  'testScore': 0.0,\n",
       "  'estimatorName': 'random_forest',\n",
       "  'generator': 'optuna-pycaret',\n",
       "  'file': {'size': '113192', 'sizeHumanized': '113.2 kB'},\n",
       "  'deployedStatus': None},\n",
       " {'id': '109',\n",
       "  'score': 1.0,\n",
       "  'trainScore': 0.9333333333333333,\n",
       "  'validScore': 1.0,\n",
       "  'testScore': 0.0,\n",
       "  'estimatorName': 'random_forest',\n",
       "  'generator': 'optuna-pycaret',\n",
       "  'file': {'size': '92704', 'sizeHumanized': '92.7 kB'},\n",
       "  'deployedStatus': None},\n",
       " {'id': '110',\n",
       "  'score': 1.0,\n",
       "  'trainScore': 0.9619047619047619,\n",
       "  'validScore': 1.0,\n",
       "  'testScore': 0.0,\n",
       "  'estimatorName': 'random_forest',\n",
       "  'generator': 'optuna-pycaret',\n",
       "  'file': {'size': '109954', 'sizeHumanized': '110.0 kB'},\n",
       "  'deployedStatus': None},\n",
       " {'id': '111',\n",
       "  'score': 1.0,\n",
       "  'trainScore': 0.9809523809523809,\n",
       "  'validScore': 1.0,\n",
       "  'testScore': 0.0,\n",
       "  'estimatorName': 'logistic_regression',\n",
       "  'generator': 'optuna-pycaret',\n",
       "  'file': {'size': '2099', 'sizeHumanized': '2.1 kB'},\n",
       "  'deployedStatus': None},\n",
       " {'id': '112',\n",
       "  'score': 1.0,\n",
       "  'trainScore': 0.9523809523809523,\n",
       "  'validScore': 1.0,\n",
       "  'testScore': 0.0,\n",
       "  'estimatorName': 'random_forest',\n",
       "  'generator': 'optuna-pycaret',\n",
       "  'file': {'size': '138792', 'sizeHumanized': '138.8 kB'},\n",
       "  'deployedStatus': None},\n",
       " {'id': '116',\n",
       "  'score': 1.0,\n",
       "  'trainScore': 0.9333333333333333,\n",
       "  'validScore': 1.0,\n",
       "  'testScore': 0.0,\n",
       "  'estimatorName': 'random_forest',\n",
       "  'generator': 'optuna-pycaret',\n",
       "  'file': {'size': '83367', 'sizeHumanized': '83.4 kB'},\n",
       "  'deployedStatus': None},\n",
       " {'id': '117',\n",
       "  'score': 1.0,\n",
       "  'trainScore': 0.9428571428571428,\n",
       "  'validScore': 1.0,\n",
       "  'testScore': 0.0,\n",
       "  'estimatorName': 'random_forest',\n",
       "  'generator': 'optuna-pycaret',\n",
       "  'file': {'size': '88213', 'sizeHumanized': '88.2 kB'},\n",
       "  'deployedStatus': None},\n",
       " {'id': '118',\n",
       "  'score': 1.0,\n",
       "  'trainScore': 0.9619047619047619,\n",
       "  'validScore': 1.0,\n",
       "  'testScore': 0.0,\n",
       "  'estimatorName': 'xgboost',\n",
       "  'generator': 'optuna-pycaret',\n",
       "  'file': {'size': '170038', 'sizeHumanized': '170.0 kB'},\n",
       "  'deployedStatus': None},\n",
       " {'id': '121',\n",
       "  'score': 1.0,\n",
       "  'trainScore': 1.0,\n",
       "  'validScore': 1.0,\n",
       "  'testScore': 0.0,\n",
       "  'estimatorName': 'gradient_boosting',\n",
       "  'generator': 'optuna-pycaret',\n",
       "  'file': {'size': '300738', 'sizeHumanized': '300.7 kB'},\n",
       "  'deployedStatus': None},\n",
       " {'id': '122',\n",
       "  'score': 1.0,\n",
       "  'trainScore': 1.0,\n",
       "  'validScore': 1.0,\n",
       "  'testScore': 0.0,\n",
       "  'estimatorName': 'gradient_boosting',\n",
       "  'generator': 'optuna-pycaret',\n",
       "  'file': {'size': '1367576', 'sizeHumanized': '1.4 MB'},\n",
       "  'deployedStatus': None},\n",
       " {'id': '124',\n",
       "  'score': 1.0,\n",
       "  'trainScore': 0.9523809523809523,\n",
       "  'validScore': 1.0,\n",
       "  'testScore': 0.0,\n",
       "  'estimatorName': 'gradient_boosting',\n",
       "  'generator': 'optuna-pycaret',\n",
       "  'file': {'size': '410487', 'sizeHumanized': '410.5 kB'},\n",
       "  'deployedStatus': None},\n",
       " {'id': '128',\n",
       "  'score': 1.0,\n",
       "  'trainScore': 0.9333333333333333,\n",
       "  'validScore': 1.0,\n",
       "  'testScore': 0.0,\n",
       "  'estimatorName': 'gradient_boosting',\n",
       "  'generator': 'optuna-pycaret',\n",
       "  'file': {'size': '339742', 'sizeHumanized': '339.7 kB'},\n",
       "  'deployedStatus': None},\n",
       " {'id': '129',\n",
       "  'score': 1.0,\n",
       "  'trainScore': 0.9333333333333333,\n",
       "  'validScore': 1.0,\n",
       "  'testScore': 0.0,\n",
       "  'estimatorName': 'gradient_boosting',\n",
       "  'generator': 'optuna-pycaret',\n",
       "  'file': {'size': '339742', 'sizeHumanized': '339.7 kB'},\n",
       "  'deployedStatus': None},\n",
       " {'id': '130',\n",
       "  'score': 1.0,\n",
       "  'trainScore': 0.9523809523809523,\n",
       "  'validScore': 1.0,\n",
       "  'testScore': 0.0,\n",
       "  'estimatorName': 'gradient_boosting',\n",
       "  'generator': 'optuna-pycaret',\n",
       "  'file': {'size': '307429', 'sizeHumanized': '307.4 kB'},\n",
       "  'deployedStatus': None},\n",
       " {'id': '131',\n",
       "  'score': 1.0,\n",
       "  'trainScore': 0.9523809523809523,\n",
       "  'validScore': 1.0,\n",
       "  'testScore': 0.0,\n",
       "  'estimatorName': 'gradient_boosting',\n",
       "  'generator': 'optuna-pycaret',\n",
       "  'file': {'size': '208525', 'sizeHumanized': '208.5 kB'},\n",
       "  'deployedStatus': None},\n",
       " {'id': '133',\n",
       "  'score': 1.0,\n",
       "  'trainScore': 1.0,\n",
       "  'validScore': 1.0,\n",
       "  'testScore': 0.0,\n",
       "  'estimatorName': 'gradient_boosting',\n",
       "  'generator': 'optuna-pycaret',\n",
       "  'file': {'size': '369595', 'sizeHumanized': '369.6 kB'},\n",
       "  'deployedStatus': None},\n",
       " {'id': '134',\n",
       "  'score': 1.0,\n",
       "  'trainScore': 1.0,\n",
       "  'validScore': 1.0,\n",
       "  'testScore': 0.0,\n",
       "  'estimatorName': 'gradient_boosting',\n",
       "  'generator': 'optuna-pycaret',\n",
       "  'file': {'size': '296294', 'sizeHumanized': '296.3 kB'},\n",
       "  'deployedStatus': None},\n",
       " {'id': '135',\n",
       "  'score': 1.0,\n",
       "  'trainScore': 0.9523809523809523,\n",
       "  'validScore': 1.0,\n",
       "  'testScore': 0.0,\n",
       "  'estimatorName': 'libsvm_svc',\n",
       "  'generator': 'optuna-pycaret',\n",
       "  'file': {'size': '6287', 'sizeHumanized': '6.3 kB'},\n",
       "  'deployedStatus': None},\n",
       " {'id': '136',\n",
       "  'score': 1.0,\n",
       "  'trainScore': 1.0,\n",
       "  'validScore': 1.0,\n",
       "  'testScore': 0.0,\n",
       "  'estimatorName': 'gradient_boosting',\n",
       "  'generator': 'optuna-pycaret',\n",
       "  'file': {'size': '260144', 'sizeHumanized': '260.1 kB'},\n",
       "  'deployedStatus': None},\n",
       " {'id': '137',\n",
       "  'score': 1.0,\n",
       "  'trainScore': 1.0,\n",
       "  'validScore': 1.0,\n",
       "  'testScore': 0.0,\n",
       "  'estimatorName': 'gradient_boosting',\n",
       "  'generator': 'optuna-pycaret',\n",
       "  'file': {'size': '296294', 'sizeHumanized': '296.3 kB'},\n",
       "  'deployedStatus': None},\n",
       " {'id': '138',\n",
       "  'score': 1.0,\n",
       "  'trainScore': 0.9523809523809523,\n",
       "  'validScore': 1.0,\n",
       "  'testScore': 0.0,\n",
       "  'estimatorName': 'libsvm_svc',\n",
       "  'generator': 'optuna-pycaret',\n",
       "  'file': {'size': '6287', 'sizeHumanized': '6.3 kB'},\n",
       "  'deployedStatus': None},\n",
       " {'id': '82',\n",
       "  'score': 0.9777777777777777,\n",
       "  'trainScore': 1.0,\n",
       "  'validScore': 0.9777777777777777,\n",
       "  'testScore': 0.0,\n",
       "  'estimatorName': 'libsvm_svc',\n",
       "  'generator': 'optuna-pycaret',\n",
       "  'file': {'size': '5541', 'sizeHumanized': '5.5 kB'},\n",
       "  'deployedStatus': None},\n",
       " {'id': '113',\n",
       "  'score': 0.9777777777777777,\n",
       "  'trainScore': 0.9428571428571428,\n",
       "  'validScore': 0.9777777777777777,\n",
       "  'testScore': 0.0,\n",
       "  'estimatorName': 'random_forest',\n",
       "  'generator': 'optuna-pycaret',\n",
       "  'file': {'size': '93954', 'sizeHumanized': '94.0 kB'},\n",
       "  'deployedStatus': None},\n",
       " {'id': '115',\n",
       "  'score': 0.9777777777777777,\n",
       "  'trainScore': 0.9428571428571428,\n",
       "  'validScore': 0.9777777777777777,\n",
       "  'testScore': 0.0,\n",
       "  'estimatorName': 'random_forest',\n",
       "  'generator': 'optuna-pycaret',\n",
       "  'file': {'size': '120712', 'sizeHumanized': '120.7 kB'},\n",
       "  'deployedStatus': None},\n",
       " {'id': '123',\n",
       "  'score': 0.9777777777777777,\n",
       "  'trainScore': 0.9428571428571428,\n",
       "  'validScore': 0.9777777777777777,\n",
       "  'testScore': 0.0,\n",
       "  'estimatorName': 'gradient_boosting',\n",
       "  'generator': 'optuna-pycaret',\n",
       "  'file': {'size': '244114', 'sizeHumanized': '244.1 kB'},\n",
       "  'deployedStatus': None},\n",
       " {'id': '132',\n",
       "  'score': 0.9777777777777777,\n",
       "  'trainScore': 0.9428571428571428,\n",
       "  'validScore': 0.9777777777777777,\n",
       "  'testScore': 0.0,\n",
       "  'estimatorName': 'gradient_boosting',\n",
       "  'generator': 'optuna-pycaret',\n",
       "  'file': {'size': '223027', 'sizeHumanized': '223.0 kB'},\n",
       "  'deployedStatus': None},\n",
       " {'id': '139',\n",
       "  'score': 0.9777777777777777,\n",
       "  'trainScore': 0.9714285714285714,\n",
       "  'validScore': 0.9777777777777777,\n",
       "  'testScore': 0.0,\n",
       "  'estimatorName': 'libsvm_svc',\n",
       "  'generator': 'optuna-pycaret',\n",
       "  'file': {'size': '3676', 'sizeHumanized': '3.7 kB'},\n",
       "  'deployedStatus': None},\n",
       " {'id': '85',\n",
       "  'score': 0.9555555555555556,\n",
       "  'trainScore': 0.9142857142857143,\n",
       "  'validScore': 0.9555555555555556,\n",
       "  'testScore': 0.0,\n",
       "  'estimatorName': 'xgboost',\n",
       "  'generator': 'optuna-pycaret',\n",
       "  'file': {'size': '145851', 'sizeHumanized': '145.9 kB'},\n",
       "  'deployedStatus': None},\n",
       " {'id': '120',\n",
       "  'score': 0.9555555555555556,\n",
       "  'trainScore': 0.9238095238095239,\n",
       "  'validScore': 0.9555555555555556,\n",
       "  'testScore': 0.0,\n",
       "  'estimatorName': 'libsvm_svc',\n",
       "  'generator': 'optuna-pycaret',\n",
       "  'file': {'size': '3037', 'sizeHumanized': '3.0 kB'},\n",
       "  'deployedStatus': None},\n",
       " {'id': '114',\n",
       "  'score': 0.9333333333333333,\n",
       "  'trainScore': 0.9142857142857143,\n",
       "  'validScore': 0.9333333333333333,\n",
       "  'testScore': 0.0,\n",
       "  'estimatorName': 'logistic_regression',\n",
       "  'generator': 'optuna-pycaret',\n",
       "  'file': {'size': '1977', 'sizeHumanized': '2.0 kB'},\n",
       "  'deployedStatus': None},\n",
       " {'id': '84',\n",
       "  'score': 0.9111111111111111,\n",
       "  'trainScore': 0.9238095238095239,\n",
       "  'validScore': 0.9111111111111111,\n",
       "  'testScore': 0.0,\n",
       "  'estimatorName': 'logistic_regression',\n",
       "  'generator': 'optuna-pycaret',\n",
       "  'file': {'size': '2072', 'sizeHumanized': '2.1 kB'},\n",
       "  'deployedStatus': None},\n",
       " {'id': '127',\n",
       "  'score': 0.8222222222222222,\n",
       "  'trainScore': 0.8285714285714286,\n",
       "  'validScore': 0.8222222222222222,\n",
       "  'testScore': 0.0,\n",
       "  'estimatorName': 'libsvm_svc',\n",
       "  'generator': 'optuna-pycaret',\n",
       "  'file': {'size': '9663', 'sizeHumanized': '9.7 kB'},\n",
       "  'deployedStatus': None},\n",
       " {'id': '93',\n",
       "  'score': 0.7111111111111111,\n",
       "  'trainScore': 0.6476190476190476,\n",
       "  'validScore': 0.7111111111111111,\n",
       "  'testScore': 0.0,\n",
       "  'estimatorName': 'decision_tree',\n",
       "  'generator': 'optuna-pycaret',\n",
       "  'file': {'size': '2211', 'sizeHumanized': '2.2 kB'},\n",
       "  'deployedStatus': None},\n",
       " {'id': '99',\n",
       "  'score': 0.7111111111111111,\n",
       "  'trainScore': 0.6476190476190476,\n",
       "  'validScore': 0.7111111111111111,\n",
       "  'testScore': 0.0,\n",
       "  'estimatorName': 'decision_tree',\n",
       "  'generator': 'optuna-pycaret',\n",
       "  'file': {'size': '2128', 'sizeHumanized': '2.1 kB'},\n",
       "  'deployedStatus': None},\n",
       " {'id': '119',\n",
       "  'score': 0.4888888888888889,\n",
       "  'trainScore': 0.49523809523809526,\n",
       "  'validScore': 0.4888888888888889,\n",
       "  'testScore': 0.0,\n",
       "  'estimatorName': 'gradient_boosting',\n",
       "  'generator': 'optuna-pycaret',\n",
       "  'file': {'size': '236595', 'sizeHumanized': '236.6 kB'},\n",
       "  'deployedStatus': None},\n",
       " {'id': '88',\n",
       "  'score': 0.4,\n",
       "  'trainScore': 0.580952380952381,\n",
       "  'validScore': 0.4,\n",
       "  'testScore': 0.0,\n",
       "  'estimatorName': 'xgboost',\n",
       "  'generator': 'optuna-pycaret',\n",
       "  'file': {'size': '138853', 'sizeHumanized': '138.9 kB'},\n",
       "  'deployedStatus': None},\n",
       " {'id': '81',\n",
       "  'score': 0.28888888888888886,\n",
       "  'trainScore': 0.3523809523809524,\n",
       "  'validScore': 0.28888888888888886,\n",
       "  'testScore': 0.0,\n",
       "  'estimatorName': 'xgboost',\n",
       "  'generator': 'optuna-pycaret',\n",
       "  'file': {'size': '132690', 'sizeHumanized': '132.7 kB'},\n",
       "  'deployedStatus': None},\n",
       " {'id': '91',\n",
       "  'score': 0.28888888888888886,\n",
       "  'trainScore': 0.3523809523809524,\n",
       "  'validScore': 0.28888888888888886,\n",
       "  'testScore': 0.0,\n",
       "  'estimatorName': 'xgboost',\n",
       "  'generator': 'optuna-pycaret',\n",
       "  'file': {'size': '130629', 'sizeHumanized': '130.6 kB'},\n",
       "  'deployedStatus': None},\n",
       " {'id': '125',\n",
       "  'score': 0.28888888888888886,\n",
       "  'trainScore': 0.3523809523809524,\n",
       "  'validScore': 0.28888888888888886,\n",
       "  'testScore': 0.0,\n",
       "  'estimatorName': 'decision_tree',\n",
       "  'generator': 'optuna-pycaret',\n",
       "  'file': {'size': '1974', 'sizeHumanized': '2.0 kB'},\n",
       "  'deployedStatus': None},\n",
       " {'id': '126',\n",
       "  'score': 0.28888888888888886,\n",
       "  'trainScore': 0.3523809523809524,\n",
       "  'validScore': 0.28888888888888886,\n",
       "  'testScore': 0.0,\n",
       "  'estimatorName': 'gradient_boosting',\n",
       "  'generator': 'optuna-pycaret',\n",
       "  'file': {'size': '156448', 'sizeHumanized': '156.4 kB'},\n",
       "  'deployedStatus': None}]"
      ]
     },
     "execution_count": 12,
     "metadata": {},
     "output_type": "execute_result"
    }
   ],
   "source": [
    "# Leaderboard 정보 구해오기 \n",
    "leaderboard = experiment.leaderboard()\n",
    "print(f'leaderboad의 model 갯수는 {len(leaderboard)}')\n",
    "leaderboard"
   ]
  },
  {
   "cell_type": "code",
   "execution_count": 13,
   "id": "monthly-sullivan",
   "metadata": {},
   "outputs": [
    {
     "data": {
      "text/plain": [
       "{'id': '83',\n",
       " 'score': 1.0,\n",
       " 'trainScore': 0.9619047619047619,\n",
       " 'validScore': 1.0,\n",
       " 'testScore': 0.0,\n",
       " 'estimatorName': 'xgboost',\n",
       " 'generator': 'optuna-pycaret',\n",
       " 'file': {'size': '133448', 'sizeHumanized': '133.4 kB'},\n",
       " 'deployedStatus': 'DONE'}"
      ]
     },
     "execution_count": 13,
     "metadata": {},
     "output_type": "execute_result"
    }
   ],
   "source": [
    "# 가장 순위 높은 모델 선택\n",
    "model = leaderboard.best_model()\n",
    "# model = leaderboard[0]  # 이 형태도 가능함\n",
    "model"
   ]
  },
  {
   "cell_type": "code",
   "execution_count": 14,
   "id": "alpine-partnership",
   "metadata": {},
   "outputs": [
    {
     "data": {
      "text/plain": [
       "{'id': '87',\n",
       " 'score': 1.0,\n",
       " 'trainScore': 0.9619047619047619,\n",
       " 'validScore': 1.0,\n",
       " 'testScore': 0.0,\n",
       " 'estimatorName': 'logistic_regression',\n",
       " 'generator': 'optuna-pycaret',\n",
       " 'file': {'size': '1533', 'sizeHumanized': '1.5 kB'},\n",
       " 'deployedStatus': None}"
      ]
     },
     "execution_count": 14,
     "metadata": {},
     "output_type": "execute_result"
    }
   ],
   "source": [
    "# 두 번째 순위 높은 모델 선택 (Best Model은 Run후 자동배포되므로..)\n",
    "model = leaderboard[2] # 여기선 3번째 모델 구함\n",
    "model"
   ]
  },
  {
   "cell_type": "code",
   "execution_count": 15,
   "id": "falling-driving",
   "metadata": {},
   "outputs": [
    {
     "name": "stdout",
     "output_type": "stream",
     "text": [
      "token expire timie이 28분 이내라 내부적으로 token을 refresh함\n",
      "{'deployModel': {'deployment': {'id': '5', 'model': {'id': '87', '__typename': 'MlModelBaseType', 'deployedStatus': 'REQUEST'}}}}\n"
     ]
    }
   ],
   "source": [
    "# 모델 배포\n",
    "model.deploy()"
   ]
  },
  {
   "cell_type": "code",
   "execution_count": 16,
   "id": "conceptual-radiation",
   "metadata": {},
   "outputs": [
    {
     "name": "stdout",
     "output_type": "stream",
     "text": [
      "배포된 모델은 3개 입니다.\n"
     ]
    },
    {
     "data": {
      "text/plain": [
       "[{'id': '5',\n",
       "  'name': 'logistic_regression',\n",
       "  'description': None,\n",
       "  'status': 'DONE',\n",
       "  'modelType': 'model',\n",
       "  'modelPk': 87,\n",
       "  'allMetricsJson': None,\n",
       "  'createdAt': '2021-02-10T16:18:36.767495',\n",
       "  'testScore': None,\n",
       "  'model': {'id': '87', 'trainScore': 0.9619047619047619, 'validScore': 1.0},\n",
       "  'file': {'url': 'http://localhost:8000/media/runtime_0003/runtimeprocess_0033/output/pipeline.pkl',\n",
       "   'size': '1507',\n",
       "   'sizeHumanized': '1.5 kB',\n",
       "   'name': 'runtime_0003/runtimeprocess_0033/output/pipeline.pkl'}},\n",
       " {'id': '4',\n",
       "  'name': 'logistic_regression',\n",
       "  'description': None,\n",
       "  'status': 'DONE',\n",
       "  'modelType': 'model',\n",
       "  'modelPk': 86,\n",
       "  'allMetricsJson': None,\n",
       "  'createdAt': '2021-02-10T13:41:22.681704',\n",
       "  'testScore': None,\n",
       "  'model': {'id': '86', 'trainScore': 0.9619047619047619, 'validScore': 1.0},\n",
       "  'file': {'url': 'http://localhost:8000/media/runtime_0003/runtimeprocess_0027/output/pipeline.pkl',\n",
       "   'size': '2315',\n",
       "   'sizeHumanized': '2.3 kB',\n",
       "   'name': 'runtime_0003/runtimeprocess_0027/output/pipeline.pkl'}},\n",
       " {'id': '3',\n",
       "  'name': 'xgboost',\n",
       "  'description': None,\n",
       "  'status': 'DONE',\n",
       "  'modelType': 'model',\n",
       "  'modelPk': 83,\n",
       "  'allMetricsJson': None,\n",
       "  'createdAt': '2021-02-10T13:40:26.496046',\n",
       "  'testScore': None,\n",
       "  'model': {'id': '83', 'trainScore': 0.9619047619047619, 'validScore': 1.0},\n",
       "  'file': {'url': 'http://localhost:8000/media/runtime_0003/runtimeprocess_0026/output/pipeline.pkl',\n",
       "   'size': '133476',\n",
       "   'sizeHumanized': '133.5 kB',\n",
       "   'name': 'runtime_0003/runtimeprocess_0026/output/pipeline.pkl'}}]"
      ]
     },
     "execution_count": 16,
     "metadata": {},
     "output_type": "execute_result"
    }
   ],
   "source": [
    "# Deployment 정보 구해오기 \n",
    "deployments = experiment.deployments()\n",
    "print(f'배포된 모델은 {len(deployments)}개 입니다.')\n",
    "deployments"
   ]
  },
  {
   "cell_type": "code",
   "execution_count": 17,
   "id": "choice-dragon",
   "metadata": {},
   "outputs": [
    {
     "data": {
      "text/plain": [
       "{'id': '5',\n",
       " 'name': 'logistic_regression',\n",
       " 'description': None,\n",
       " 'status': 'DONE',\n",
       " 'modelType': 'model',\n",
       " 'modelPk': 87,\n",
       " 'allMetricsJson': None,\n",
       " 'createdAt': '2021-02-10T16:18:36.767495',\n",
       " 'testScore': None,\n",
       " 'model': {'id': '87', 'trainScore': 0.9619047619047619, 'validScore': 1.0},\n",
       " 'file': {'url': 'http://localhost:8000/media/runtime_0003/runtimeprocess_0033/output/pipeline.pkl',\n",
       "  'size': '1507',\n",
       "  'sizeHumanized': '1.5 kB',\n",
       "  'name': 'runtime_0003/runtimeprocess_0033/output/pipeline.pkl'}}"
      ]
     },
     "execution_count": 17,
     "metadata": {},
     "output_type": "execute_result"
    }
   ],
   "source": [
    "deployed_model = deployments[0]\n",
    "deployed_model"
   ]
  },
  {
   "cell_type": "code",
   "execution_count": 18,
   "id": "reduced-terror",
   "metadata": {},
   "outputs": [
    {
     "data": {
      "text/plain": [
       "{'sepal length (cm)': '5.0',\n",
       " 'sepal width (cm)': '3.0',\n",
       " 'petal length (cm)': '1.5',\n",
       " 'petal width (cm)': '0.2'}"
      ]
     },
     "execution_count": 18,
     "metadata": {},
     "output_type": "execute_result"
    }
   ],
   "source": [
    "# 모델 예측을 위해 Default값인 최빈값을 구함\n",
    "columns = experiment.column_info()\n",
    "most_frequent = columns.most_frequent_values()\n",
    "most_frequent"
   ]
  },
  {
   "cell_type": "code",
   "execution_count": 19,
   "id": "prompt-positive",
   "metadata": {},
   "outputs": [
    {
     "data": {
      "text/plain": [
       "{'sepal length (cm)': '5.0',\n",
       " 'sepal width (cm)': '3.0',\n",
       " 'petal length (cm)': '1.5',\n",
       " 'petal width (cm)': '0.2'}"
      ]
     },
     "execution_count": 19,
     "metadata": {},
     "output_type": "execute_result"
    }
   ],
   "source": [
    "# 예측을 위한 input 값 생성 (그냥 최빈값 사용)\n",
    "input_val = most_frequent\n",
    "input_val "
   ]
  },
  {
   "cell_type": "code",
   "execution_count": 20,
   "id": "arabic-republican",
   "metadata": {},
   "outputs": [
    {
     "data": {
      "text/plain": [
       "'0.0'"
      ]
     },
     "execution_count": 20,
     "metadata": {},
     "output_type": "execute_result"
    }
   ],
   "source": [
    "# 예측 \n",
    "predict_val = deployed_model.predict(input_val)\n",
    "predict_val"
   ]
  },
  {
   "cell_type": "code",
   "execution_count": null,
   "id": "designed-basis",
   "metadata": {},
   "outputs": [],
   "source": []
  }
 ],
 "metadata": {
  "kernelspec": {
   "display_name": "Python 3",
   "language": "python",
   "name": "python3"
  },
  "language_info": {
   "codemirror_mode": {
    "name": "ipython",
    "version": 3
   },
   "file_extension": ".py",
   "mimetype": "text/x-python",
   "name": "python",
   "nbconvert_exporter": "python",
   "pygments_lexer": "ipython3",
   "version": "3.8.2"
  }
 },
 "nbformat": 4,
 "nbformat_minor": 5
}
