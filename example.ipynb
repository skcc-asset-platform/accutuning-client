{
 "cells": [
  {
   "cell_type": "code",
   "execution_count": 1,
   "id": "vertical-france",
   "metadata": {},
   "outputs": [],
   "source": [
    "from accutuning_client.client import Client"
   ]
  },
  {
   "cell_type": "code",
   "execution_count": 2,
   "id": "broken-plant",
   "metadata": {},
   "outputs": [],
   "source": [
    "client = Client('localhost', 8000)"
   ]
  },
  {
   "cell_type": "code",
   "execution_count": 3,
   "id": "compliant-library",
   "metadata": {},
   "outputs": [
    {
     "data": {
      "text/plain": [
       "True"
      ]
     },
     "execution_count": 3,
     "metadata": {},
     "output_type": "execute_result"
    }
   ],
   "source": [
    "client.login('autoinsight', 'autoinsight')"
   ]
  },
  {
   "cell_type": "code",
   "execution_count": 4,
   "id": "certain-forest",
   "metadata": {},
   "outputs": [
    {
     "name": "stdout",
     "output_type": "stream",
     "text": [
      "현재 Experiments는 총 1개 있습니다.\n"
     ]
    },
    {
     "data": {
      "text/plain": [
       "1 Experiments\n",
       "=======================\n",
       "Experiment(id=1, name=Experiment-1, dataset.name=diabetes2, dataset.colCount=11, status=finished, estimatorType=REGRESSOR, metric=NEG_MEAN_SQUARED_ERROR, modelsCnt=52)"
      ]
     },
     "execution_count": 4,
     "metadata": {},
     "output_type": "execute_result"
    }
   ],
   "source": [
    "# Experiment의 List를 불러온다.\n",
    "experiments = client.experiments()\n",
    "print(f'현재 Experiments는 총 {len(experiments)}개 있습니다.')\n",
    "experiments"
   ]
  },
  {
   "cell_type": "code",
   "execution_count": 5,
   "id": "accessory-retrieval",
   "metadata": {},
   "outputs": [
    {
     "data": {
      "text/plain": [
       "Experiment(id=2, name=Experiment-2, status=creating, estimatorType=classifier, metric=accuracy)"
      ]
     },
     "execution_count": 5,
     "metadata": {},
     "output_type": "execute_result"
    }
   ],
   "source": [
    "# Local File에서 Experiment를 생성한다. \n",
    "experiment_new = client.create_experiment_from_file('/Users/ahaljh/Downloads/iris1.csv')\n",
    "experiment_new"
   ]
  },
  {
   "cell_type": "code",
   "execution_count": 6,
   "id": "transsexual-antigua",
   "metadata": {},
   "outputs": [
    {
     "data": {
      "text/plain": [
       "Experiment(id=2, name=Experiment-2, dataset.name=iris1, dataset.colCount=5, status=ready, estimatorType=CLASSIFIER, metric=ACCURACY)"
      ]
     },
     "execution_count": 6,
     "metadata": {},
     "output_type": "execute_result"
    }
   ],
   "source": [
    "experiment_new"
   ]
  },
  {
   "cell_type": "code",
   "execution_count": 7,
   "id": "patient-timer",
   "metadata": {},
   "outputs": [
    {
     "data": {
      "text/plain": [
       "True"
      ]
     },
     "execution_count": 7,
     "metadata": {},
     "output_type": "execute_result"
    }
   ],
   "source": [
    "# Run AutoML\n",
    "experiment_new.run()"
   ]
  },
  {
   "cell_type": "code",
   "execution_count": 8,
   "id": "deluxe-croatia",
   "metadata": {},
   "outputs": [
    {
     "name": "stdout",
     "output_type": "stream",
     "text": [
      "현재 Experiments는 총 2개 있습니다.\n"
     ]
    },
    {
     "data": {
      "text/plain": [
       "2 Experiments\n",
       "=======================\n",
       "Experiment(id=2, name=Experiment-2, dataset.name=iris1, dataset.colCount=5, status=learning, estimatorType=CLASSIFIER, metric=ACCURACY, modelsCnt=4)\n",
       "Experiment(id=1, name=Experiment-1, dataset.name=diabetes2, dataset.colCount=11, status=finished, estimatorType=REGRESSOR, metric=NEG_MEAN_SQUARED_ERROR, modelsCnt=52)"
      ]
     },
     "execution_count": 8,
     "metadata": {},
     "output_type": "execute_result"
    }
   ],
   "source": [
    "# Experiment의 List를 불러온다.\n",
    "experiments = client.experiments()\n",
    "print(f'현재 Experiments는 총 {len(experiments)}개 있습니다.')\n",
    "experiments"
   ]
  },
  {
   "cell_type": "code",
   "execution_count": 9,
   "id": "sweet-logistics",
   "metadata": {},
   "outputs": [
    {
     "data": {
      "text/plain": [
       "Experiment(id=1, name=Experiment-1, dataset.name=diabetes2, dataset.colCount=11, status=finished, estimatorType=REGRESSOR, metric=NEG_MEAN_SQUARED_ERROR, modelsCnt=52)"
      ]
     },
     "execution_count": 9,
     "metadata": {},
     "output_type": "execute_result"
    }
   ],
   "source": [
    "# 시간이 오래 걸리니까 완료된 experiment를 다시 선택\n",
    "experiment = experiments.get(id=1)\n",
    "# experiment = experiments[1]  # 이 형태도 가능함\n",
    "experiment"
   ]
  },
  {
   "cell_type": "code",
   "execution_count": 10,
   "id": "incoming-warehouse",
   "metadata": {},
   "outputs": [
    {
     "name": "stdout",
     "output_type": "stream",
     "text": [
      "leaderboad의 model 갯수는 52\n"
     ]
    },
    {
     "data": {
      "text/plain": [
       "[{'id': '22',\n",
       "  'score': -2652.9879717803033,\n",
       "  'trainScore': -2439.149837983871,\n",
       "  'validScore': -2652.9879717803033,\n",
       "  'testScore': 0.0,\n",
       "  'estimatorName': 'random_forest',\n",
       "  'generator': 'optuna-pycaret',\n",
       "  'file': {'size': '185889', 'sizeHumanized': '185.9 kB'},\n",
       "  'deployedStatus': 'DONE'},\n",
       " {'id': '24',\n",
       "  'score': -2652.9879717803033,\n",
       "  'trainScore': -2439.149837983871,\n",
       "  'validScore': -2652.9879717803033,\n",
       "  'testScore': 0.0,\n",
       "  'estimatorName': 'random_forest',\n",
       "  'generator': 'optuna-pycaret',\n",
       "  'file': {'size': '185889', 'sizeHumanized': '185.9 kB'},\n",
       "  'deployedStatus': None},\n",
       " {'id': '50',\n",
       "  'score': -2658.6195136363635,\n",
       "  'trainScore': -2575.376746935484,\n",
       "  'validScore': -2658.6195136363635,\n",
       "  'testScore': 0.0,\n",
       "  'estimatorName': 'random_forest',\n",
       "  'generator': 'optuna-pycaret',\n",
       "  'file': {'size': '155297', 'sizeHumanized': '155.3 kB'},\n",
       "  'deployedStatus': None},\n",
       " {'id': '51',\n",
       "  'score': -2658.6195136363635,\n",
       "  'trainScore': -2575.376746935484,\n",
       "  'validScore': -2658.6195136363635,\n",
       "  'testScore': 0.0,\n",
       "  'estimatorName': 'random_forest',\n",
       "  'generator': 'optuna-pycaret',\n",
       "  'file': {'size': '155297', 'sizeHumanized': '155.3 kB'},\n",
       "  'deployedStatus': None},\n",
       " {'id': '23',\n",
       "  'score': -2675.606156060606,\n",
       "  'trainScore': -2309.249464354839,\n",
       "  'validScore': -2675.606156060606,\n",
       "  'testScore': 0.0,\n",
       "  'estimatorName': 'random_forest',\n",
       "  'generator': 'optuna-pycaret',\n",
       "  'file': {'size': '220705', 'sizeHumanized': '220.7 kB'},\n",
       "  'deployedStatus': None},\n",
       " {'id': '44',\n",
       "  'score': -2675.6541149621216,\n",
       "  'trainScore': -2392.7503228225805,\n",
       "  'validScore': -2675.6541149621216,\n",
       "  'testScore': 0.0,\n",
       "  'estimatorName': 'random_forest',\n",
       "  'generator': 'optuna-pycaret',\n",
       "  'file': {'size': '207393', 'sizeHumanized': '207.4 kB'},\n",
       "  'deployedStatus': None},\n",
       " {'id': '33',\n",
       "  'score': -2678.5800018939394,\n",
       "  'trainScore': -2531.827975887097,\n",
       "  'validScore': -2678.5800018939394,\n",
       "  'testScore': 0.0,\n",
       "  'estimatorName': 'random_forest',\n",
       "  'generator': 'optuna-pycaret',\n",
       "  'file': {'size': '165025', 'sizeHumanized': '165.0 kB'},\n",
       "  'deployedStatus': None},\n",
       " {'id': '26',\n",
       "  'score': -2688.9245242424245,\n",
       "  'trainScore': -1962.1300633870967,\n",
       "  'validScore': -2688.9245242424245,\n",
       "  'testScore': 0.0,\n",
       "  'estimatorName': 'random_forest',\n",
       "  'generator': 'optuna-pycaret',\n",
       "  'file': {'size': '315937', 'sizeHumanized': '315.9 kB'},\n",
       "  'deployedStatus': None},\n",
       " {'id': '31',\n",
       "  'score': -2688.9245242424245,\n",
       "  'trainScore': -1962.1300633870967,\n",
       "  'validScore': -2688.9245242424245,\n",
       "  'testScore': 0.0,\n",
       "  'estimatorName': 'random_forest',\n",
       "  'generator': 'optuna-pycaret',\n",
       "  'file': {'size': '315937', 'sizeHumanized': '315.9 kB'},\n",
       "  'deployedStatus': None},\n",
       " {'id': '15',\n",
       "  'score': -2690.0097548785557,\n",
       "  'trainScore': -2459.323748627613,\n",
       "  'validScore': -2690.0097548785557,\n",
       "  'testScore': 0.0,\n",
       "  'estimatorName': 'random_forest',\n",
       "  'generator': 'optuna-pycaret',\n",
       "  'file': {'size': '184288', 'sizeHumanized': '184.3 kB'},\n",
       "  'deployedStatus': None},\n",
       " {'id': '47',\n",
       "  'score': -2698.2026020833337,\n",
       "  'trainScore': -2335.2069039516127,\n",
       "  'validScore': -2698.2026020833337,\n",
       "  'testScore': 0.0,\n",
       "  'estimatorName': 'random_forest',\n",
       "  'generator': 'optuna-pycaret',\n",
       "  'file': {'size': '224913', 'sizeHumanized': '224.9 kB'},\n",
       "  'deployedStatus': None},\n",
       " {'id': '49',\n",
       "  'score': -2699.020980871212,\n",
       "  'trainScore': -2362.702055564516,\n",
       "  'validScore': -2699.020980871212,\n",
       "  'testScore': 0.0,\n",
       "  'estimatorName': 'random_forest',\n",
       "  'generator': 'optuna-pycaret',\n",
       "  'file': {'size': '202913', 'sizeHumanized': '202.9 kB'},\n",
       "  'deployedStatus': None},\n",
       " {'id': '28',\n",
       "  'score': -2710.7756210227276,\n",
       "  'trainScore': -2169.3907983064514,\n",
       "  'validScore': -2710.7756210227276,\n",
       "  'testScore': 0.0,\n",
       "  'estimatorName': 'random_forest',\n",
       "  'generator': 'optuna-pycaret',\n",
       "  'file': {'size': '251169', 'sizeHumanized': '251.2 kB'},\n",
       "  'deployedStatus': None},\n",
       " {'id': '40',\n",
       "  'score': -2719.8800363636365,\n",
       "  'trainScore': -2134.7503786290326,\n",
       "  'validScore': -2719.8800363636365,\n",
       "  'testScore': 0.0,\n",
       "  'estimatorName': 'random_forest',\n",
       "  'generator': 'optuna-pycaret',\n",
       "  'file': {'size': '271777', 'sizeHumanized': '271.8 kB'},\n",
       "  'deployedStatus': None},\n",
       " {'id': '52',\n",
       "  'score': -2720.936879924243,\n",
       "  'trainScore': -2592.1871591935483,\n",
       "  'validScore': -2720.936879924243,\n",
       "  'testScore': 0.0,\n",
       "  'estimatorName': 'random_forest',\n",
       "  'generator': 'optuna-pycaret',\n",
       "  'file': {'size': '155681', 'sizeHumanized': '155.7 kB'},\n",
       "  'deployedStatus': None},\n",
       " {'id': '21',\n",
       "  'score': -2745.0857325757574,\n",
       "  'trainScore': -2276.2454702419354,\n",
       "  'validScore': -2745.0857325757574,\n",
       "  'testScore': 0.0,\n",
       "  'estimatorName': 'random_forest',\n",
       "  'generator': 'optuna-pycaret',\n",
       "  'file': {'size': '222625', 'sizeHumanized': '222.6 kB'},\n",
       "  'deployedStatus': None},\n",
       " {'id': '42',\n",
       "  'score': -2748.036569318182,\n",
       "  'trainScore': -1726.2541744354842,\n",
       "  'validScore': -2748.036569318182,\n",
       "  'testScore': 0.0,\n",
       "  'estimatorName': 'random_forest',\n",
       "  'generator': 'optuna-pycaret',\n",
       "  'file': {'size': '394529', 'sizeHumanized': '394.5 kB'},\n",
       "  'deployedStatus': None},\n",
       " {'id': '10',\n",
       "  'score': -2754.54888014794,\n",
       "  'trainScore': -2712.874998416892,\n",
       "  'validScore': -2754.54888014794,\n",
       "  'testScore': 0.0,\n",
       "  'estimatorName': 'random_forest',\n",
       "  'generator': 'optuna-pycaret',\n",
       "  'file': {'size': '151755', 'sizeHumanized': '151.8 kB'},\n",
       "  'deployedStatus': None},\n",
       " {'id': '45',\n",
       "  'score': -2756.9087636363633,\n",
       "  'trainScore': -2558.2246967741935,\n",
       "  'validScore': -2756.9087636363633,\n",
       "  'testScore': 0.0,\n",
       "  'estimatorName': 'random_forest',\n",
       "  'generator': 'optuna-pycaret',\n",
       "  'file': {'size': '192966', 'sizeHumanized': '193.0 kB'},\n",
       "  'deployedStatus': None},\n",
       " {'id': '18',\n",
       "  'score': -2759.07786875,\n",
       "  'trainScore': -2354.9559208064516,\n",
       "  'validScore': -2759.07786875,\n",
       "  'testScore': 0.0,\n",
       "  'estimatorName': 'random_forest',\n",
       "  'generator': 'optuna-pycaret',\n",
       "  'file': {'size': '203937', 'sizeHumanized': '203.9 kB'},\n",
       "  'deployedStatus': None},\n",
       " {'id': '35',\n",
       "  'score': -2763.9681270833335,\n",
       "  'trainScore': -2549.791939596774,\n",
       "  'validScore': -2763.9681270833335,\n",
       "  'testScore': 0.0,\n",
       "  'estimatorName': 'random_forest',\n",
       "  'generator': 'optuna-pycaret',\n",
       "  'file': {'size': '167119', 'sizeHumanized': '167.1 kB'},\n",
       "  'deployedStatus': None},\n",
       " {'id': '11',\n",
       "  'score': -2768.974115116621,\n",
       "  'trainScore': -2754.46819331286,\n",
       "  'validScore': -2768.974115116621,\n",
       "  'testScore': 0.0,\n",
       "  'estimatorName': 'random_forest',\n",
       "  'generator': 'optuna-pycaret',\n",
       "  'file': {'size': '142787', 'sizeHumanized': '142.8 kB'},\n",
       "  'deployedStatus': None},\n",
       " {'id': '12',\n",
       "  'score': -2768.974115116621,\n",
       "  'trainScore': -2754.46819331286,\n",
       "  'validScore': -2768.974115116621,\n",
       "  'testScore': 0.0,\n",
       "  'estimatorName': 'random_forest',\n",
       "  'generator': 'optuna-pycaret',\n",
       "  'file': {'size': '142787', 'sizeHumanized': '142.8 kB'},\n",
       "  'deployedStatus': None},\n",
       " {'id': '13',\n",
       "  'score': -2768.974115116621,\n",
       "  'trainScore': -2754.46819331286,\n",
       "  'validScore': -2768.974115116621,\n",
       "  'testScore': 0.0,\n",
       "  'estimatorName': 'random_forest',\n",
       "  'generator': 'optuna-pycaret',\n",
       "  'file': {'size': '142787', 'sizeHumanized': '142.8 kB'},\n",
       "  'deployedStatus': None},\n",
       " {'id': '37',\n",
       "  'score': -2790.5398583333335,\n",
       "  'trainScore': -2858.8910924193547,\n",
       "  'validScore': -2790.5398583333335,\n",
       "  'testScore': 0.0,\n",
       "  'estimatorName': 'random_forest',\n",
       "  'generator': 'optuna-pycaret',\n",
       "  'file': {'size': '115142', 'sizeHumanized': '115.1 kB'},\n",
       "  'deployedStatus': None},\n",
       " {'id': '19',\n",
       "  'score': -2793.052490234375,\n",
       "  'trainScore': -2972.639404296875,\n",
       "  'validScore': -2793.052490234375,\n",
       "  'testScore': 0.0,\n",
       "  'estimatorName': 'lasso',\n",
       "  'generator': 'optuna-pycaret',\n",
       "  'file': {'size': '1681', 'sizeHumanized': '1.7 kB'},\n",
       "  'deployedStatus': None},\n",
       " {'id': '2',\n",
       "  'score': -2823.228515625,\n",
       "  'trainScore': -3239.5,\n",
       "  'validScore': -2823.228515625,\n",
       "  'testScore': 0.0,\n",
       "  'estimatorName': 'ridge',\n",
       "  'generator': 'optuna-pycaret',\n",
       "  'file': {'size': '1369', 'sizeHumanized': '1.4 kB'},\n",
       "  'deployedStatus': None},\n",
       " {'id': '29',\n",
       "  'score': -2826.205322265625,\n",
       "  'trainScore': -2962.137451171875,\n",
       "  'validScore': -2826.205322265625,\n",
       "  'testScore': 0.0,\n",
       "  'estimatorName': 'ridge',\n",
       "  'generator': 'optuna-pycaret',\n",
       "  'file': {'size': '1396', 'sizeHumanized': '1.4 kB'},\n",
       "  'deployedStatus': None},\n",
       " {'id': '17',\n",
       "  'score': -2875.62646484375,\n",
       "  'trainScore': -3059.443603515625,\n",
       "  'validScore': -2875.62646484375,\n",
       "  'testScore': 0.0,\n",
       "  'estimatorName': 'lasso',\n",
       "  'generator': 'optuna-pycaret',\n",
       "  'file': {'size': '2086', 'sizeHumanized': '2.1 kB'},\n",
       "  'deployedStatus': None},\n",
       " {'id': '30',\n",
       "  'score': -2889.3935755681814,\n",
       "  'trainScore': -556.719315483871,\n",
       "  'validScore': -2889.3935755681814,\n",
       "  'testScore': 0.0,\n",
       "  'estimatorName': 'random_forest',\n",
       "  'generator': 'optuna-pycaret',\n",
       "  'file': {'size': '1748896', 'sizeHumanized': '1.7 MB'},\n",
       "  'deployedStatus': None},\n",
       " {'id': '5',\n",
       "  'score': -2951.4596671811287,\n",
       "  'trainScore': -3276.454918237408,\n",
       "  'validScore': -2951.4596671811287,\n",
       "  'testScore': 0.0,\n",
       "  'estimatorName': 'liblinear_svr',\n",
       "  'generator': 'optuna-pycaret',\n",
       "  'file': {'size': '2014', 'sizeHumanized': '2.0 kB'},\n",
       "  'deployedStatus': None},\n",
       " {'id': '1',\n",
       "  'score': -2951.880126953125,\n",
       "  'trainScore': -3243.7099609375,\n",
       "  'validScore': -2951.880126953125,\n",
       "  'testScore': 0.0,\n",
       "  'estimatorName': 'ridge',\n",
       "  'generator': 'optuna-pycaret',\n",
       "  'file': {'size': '1543', 'sizeHumanized': '1.5 kB'},\n",
       "  'deployedStatus': None},\n",
       " {'id': '27',\n",
       "  'score': -3002.456180871212,\n",
       "  'trainScore': -1912.6535104838706,\n",
       "  'validScore': -3002.456180871212,\n",
       "  'testScore': 0.0,\n",
       "  'estimatorName': 'random_forest',\n",
       "  'generator': 'optuna-pycaret',\n",
       "  'file': {'size': '307233', 'sizeHumanized': '307.2 kB'},\n",
       "  'deployedStatus': None},\n",
       " {'id': '32',\n",
       "  'score': -3008.96728515625,\n",
       "  'trainScore': -3333.38134765625,\n",
       "  'validScore': -3008.96728515625,\n",
       "  'testScore': 0.0,\n",
       "  'estimatorName': 'ridge',\n",
       "  'generator': 'optuna-pycaret',\n",
       "  'file': {'size': '1396', 'sizeHumanized': '1.4 kB'},\n",
       "  'deployedStatus': None},\n",
       " {'id': '3',\n",
       "  'score': -3040.469479158889,\n",
       "  'trainScore': -1835.6506381648314,\n",
       "  'validScore': -3040.469479158889,\n",
       "  'testScore': 0.0,\n",
       "  'estimatorName': 'lightgbm',\n",
       "  'generator': 'optuna-pycaret',\n",
       "  'file': {'size': '544002', 'sizeHumanized': '544.0 kB'},\n",
       "  'deployedStatus': None},\n",
       " {'id': '43',\n",
       "  'score': -3059.2214464015155,\n",
       "  'trainScore': -3145.0076755645164,\n",
       "  'validScore': -3059.2214464015155,\n",
       "  'testScore': 0.0,\n",
       "  'estimatorName': 'random_forest',\n",
       "  'generator': 'optuna-pycaret',\n",
       "  'file': {'size': '156321', 'sizeHumanized': '156.3 kB'},\n",
       "  'deployedStatus': None},\n",
       " {'id': '14',\n",
       "  'score': -3191.0126953125,\n",
       "  'trainScore': -18.112598419189453,\n",
       "  'validScore': -3191.0126953125,\n",
       "  'testScore': 0.0,\n",
       "  'estimatorName': 'xgboost',\n",
       "  'generator': 'optuna-pycaret',\n",
       "  'file': {'size': '473509', 'sizeHumanized': '473.5 kB'},\n",
       "  'deployedStatus': None},\n",
       " {'id': '46',\n",
       "  'score': -3250.833251953125,\n",
       "  'trainScore': -3727.61865234375,\n",
       "  'validScore': -3250.833251953125,\n",
       "  'testScore': 0.0,\n",
       "  'estimatorName': 'lasso',\n",
       "  'generator': 'optuna-pycaret',\n",
       "  'file': {'size': '1099', 'sizeHumanized': '1.1 kB'},\n",
       "  'deployedStatus': None},\n",
       " {'id': '4',\n",
       "  'score': -3406.594696969697,\n",
       "  'trainScore': -3020.2306451612903,\n",
       "  'validScore': -3406.594696969697,\n",
       "  'testScore': 0.0,\n",
       "  'estimatorName': 'decision_tree',\n",
       "  'generator': 'optuna-pycaret',\n",
       "  'file': {'size': '4015', 'sizeHumanized': '4.0 kB'},\n",
       "  'deployedStatus': None},\n",
       " {'id': '8',\n",
       "  'score': -3444.0350419562874,\n",
       "  'trainScore': -3436.7160514729385,\n",
       "  'validScore': -3444.0350419562874,\n",
       "  'testScore': 0.0,\n",
       "  'estimatorName': 'liblinear_svr',\n",
       "  'generator': 'optuna-pycaret',\n",
       "  'file': {'size': '1656', 'sizeHumanized': '1.7 kB'},\n",
       "  'deployedStatus': None},\n",
       " {'id': '16',\n",
       "  'score': -3810.9500800492638,\n",
       "  'trainScore': -947.5041705311254,\n",
       "  'validScore': -3810.9500800492638,\n",
       "  'testScore': 0.0,\n",
       "  'estimatorName': 'random_forest',\n",
       "  'generator': 'optuna-pycaret',\n",
       "  'file': {'size': '673120', 'sizeHumanized': '673.1 kB'},\n",
       "  'deployedStatus': None},\n",
       " {'id': '39',\n",
       "  'score': -4310.193255963039,\n",
       "  'trainScore': -4301.323670210181,\n",
       "  'validScore': -4310.193255963039,\n",
       "  'testScore': 0.0,\n",
       "  'estimatorName': 'decision_tree',\n",
       "  'generator': 'optuna-pycaret',\n",
       "  'file': {'size': '2479', 'sizeHumanized': '2.5 kB'},\n",
       "  'deployedStatus': None},\n",
       " {'id': '6',\n",
       "  'score': -4518.083333333333,\n",
       "  'trainScore': -4508.448387096774,\n",
       "  'validScore': -4518.083333333333,\n",
       "  'testScore': 0.0,\n",
       "  'estimatorName': 'decision_tree',\n",
       "  'generator': 'optuna-pycaret',\n",
       "  'file': {'size': '2087', 'sizeHumanized': '2.1 kB'},\n",
       "  'deployedStatus': None},\n",
       " {'id': '41',\n",
       "  'score': -5157.596981838002,\n",
       "  'trainScore': -6090.077338953405,\n",
       "  'validScore': -5157.596981838002,\n",
       "  'testScore': 0.0,\n",
       "  'estimatorName': 'liblinear_svr',\n",
       "  'generator': 'optuna-pycaret',\n",
       "  'file': {'size': '1486', 'sizeHumanized': '1.5 kB'},\n",
       "  'deployedStatus': None},\n",
       " {'id': '34',\n",
       "  'score': -5338.026304713805,\n",
       "  'trainScore': -248.26666666666668,\n",
       "  'validScore': -5338.026304713805,\n",
       "  'testScore': 0.0,\n",
       "  'estimatorName': 'decision_tree',\n",
       "  'generator': 'optuna-pycaret',\n",
       "  'file': {'size': '18829', 'sizeHumanized': '18.8 kB'},\n",
       "  'deployedStatus': None},\n",
       " {'id': '38',\n",
       "  'score': -5390.585304599749,\n",
       "  'trainScore': -6168.179843927603,\n",
       "  'validScore': -5390.585304599749,\n",
       "  'testScore': 0.0,\n",
       "  'estimatorName': 'gradient_boosting',\n",
       "  'generator': 'optuna-pycaret',\n",
       "  'file': {'size': '59295', 'sizeHumanized': '59.3 kB'},\n",
       "  'deployedStatus': None},\n",
       " {'id': '7',\n",
       "  'score': -5400.476698263039,\n",
       "  'trainScore': -6114.135123427538,\n",
       "  'validScore': -5400.476698263039,\n",
       "  'testScore': 0.0,\n",
       "  'estimatorName': 'liblinear_svr',\n",
       "  'generator': 'optuna-pycaret',\n",
       "  'file': {'size': '1867', 'sizeHumanized': '1.9 kB'},\n",
       "  'deployedStatus': None},\n",
       " {'id': '25',\n",
       "  'score': -5720.815760481216,\n",
       "  'trainScore': -6777.244842875631,\n",
       "  'validScore': -5720.815760481216,\n",
       "  'testScore': 0.0,\n",
       "  'estimatorName': 'gradient_boosting',\n",
       "  'generator': 'optuna-pycaret',\n",
       "  'file': {'size': '59361', 'sizeHumanized': '59.4 kB'},\n",
       "  'deployedStatus': None},\n",
       " {'id': '36',\n",
       "  'score': -6388.1328125,\n",
       "  'trainScore': -7422.9951171875,\n",
       "  'validScore': -6388.1328125,\n",
       "  'testScore': 0.0,\n",
       "  'estimatorName': 'xgboost',\n",
       "  'generator': 'optuna-pycaret',\n",
       "  'file': {'size': '57379', 'sizeHumanized': '57.4 kB'},\n",
       "  'deployedStatus': None},\n",
       " {'id': '48',\n",
       "  'score': -9486.032655884463,\n",
       "  'trainScore': -11148.525095430294,\n",
       "  'validScore': -9486.032655884463,\n",
       "  'testScore': 0.0,\n",
       "  'estimatorName': 'liblinear_svr',\n",
       "  'generator': 'optuna-pycaret',\n",
       "  'file': {'size': '1477', 'sizeHumanized': '1.5 kB'},\n",
       "  'deployedStatus': None},\n",
       " {'id': '20',\n",
       "  'score': -26307.919921875,\n",
       "  'trainScore': -29074.486328125,\n",
       "  'validScore': -26307.919921875,\n",
       "  'testScore': 0.0,\n",
       "  'estimatorName': 'xgboost',\n",
       "  'generator': 'optuna-pycaret',\n",
       "  'file': {'size': '45967', 'sizeHumanized': '46.0 kB'},\n",
       "  'deployedStatus': None},\n",
       " {'id': '9',\n",
       "  'score': -32095.537463875306,\n",
       "  'trainScore': -30862.201963432235,\n",
       "  'validScore': -32095.537463875306,\n",
       "  'testScore': 0.0,\n",
       "  'estimatorName': 'gradient_boosting',\n",
       "  'generator': 'optuna-pycaret',\n",
       "  'file': {'size': '98708', 'sizeHumanized': '98.7 kB'},\n",
       "  'deployedStatus': None}]"
      ]
     },
     "execution_count": 10,
     "metadata": {},
     "output_type": "execute_result"
    }
   ],
   "source": [
    "# Leaderboard 정보 구해오기 \n",
    "leaderboard = experiment.leaderboard()\n",
    "print(f'leaderboad의 model 갯수는 {len(leaderboard)}')\n",
    "leaderboard"
   ]
  },
  {
   "cell_type": "code",
   "execution_count": 11,
   "id": "monthly-sullivan",
   "metadata": {},
   "outputs": [
    {
     "data": {
      "text/plain": [
       "{'id': '22',\n",
       " 'score': -2652.9879717803033,\n",
       " 'trainScore': -2439.149837983871,\n",
       " 'validScore': -2652.9879717803033,\n",
       " 'testScore': 0.0,\n",
       " 'estimatorName': 'random_forest',\n",
       " 'generator': 'optuna-pycaret',\n",
       " 'file': {'size': '185889', 'sizeHumanized': '185.9 kB'},\n",
       " 'deployedStatus': 'DONE'}"
      ]
     },
     "execution_count": 11,
     "metadata": {},
     "output_type": "execute_result"
    }
   ],
   "source": [
    "# 가장 순위 높은 모델 선택\n",
    "model = leaderboard.best_model()\n",
    "# model = leaderboard[0]  # 이 형태도 가능함\n",
    "model"
   ]
  },
  {
   "cell_type": "code",
   "execution_count": 12,
   "id": "alpine-partnership",
   "metadata": {},
   "outputs": [
    {
     "data": {
      "text/plain": [
       "{'id': '24',\n",
       " 'score': -2652.9879717803033,\n",
       " 'trainScore': -2439.149837983871,\n",
       " 'validScore': -2652.9879717803033,\n",
       " 'testScore': 0.0,\n",
       " 'estimatorName': 'random_forest',\n",
       " 'generator': 'optuna-pycaret',\n",
       " 'file': {'size': '185889', 'sizeHumanized': '185.9 kB'},\n",
       " 'deployedStatus': None}"
      ]
     },
     "execution_count": 12,
     "metadata": {},
     "output_type": "execute_result"
    }
   ],
   "source": [
    "# 두 번째 순위 높은 모델 선택 (Best Model은 Run후 자동배포되므로..)\n",
    "model = leaderboard[1]\n",
    "model"
   ]
  },
  {
   "cell_type": "code",
   "execution_count": 13,
   "id": "falling-driving",
   "metadata": {},
   "outputs": [
    {
     "name": "stdout",
     "output_type": "stream",
     "text": [
      "{'deployModel': {'deployment': {'id': '2', 'model': {'id': '24', '__typename': 'MlModelBaseType', 'deployedStatus': 'REQUEST'}}}}\n"
     ]
    }
   ],
   "source": [
    "# 모델 배포\n",
    "model.deploy()"
   ]
  },
  {
   "cell_type": "code",
   "execution_count": 15,
   "id": "conceptual-radiation",
   "metadata": {},
   "outputs": [
    {
     "name": "stdout",
     "output_type": "stream",
     "text": [
      "배포된 모델은 2개 입니다.\n"
     ]
    },
    {
     "data": {
      "text/plain": [
       "[{'id': '2',\n",
       "  'name': 'random_forest',\n",
       "  'description': None,\n",
       "  'status': 'DONE',\n",
       "  'modelType': 'model',\n",
       "  'modelPk': 24,\n",
       "  'allMetricsJson': None,\n",
       "  'createdAt': '2021-02-08T17:18:37.679374',\n",
       "  'testScore': None,\n",
       "  'model': {'id': '24',\n",
       "   'trainScore': -2439.149837983871,\n",
       "   'validScore': -2652.9879717803033},\n",
       "  'file': {'url': 'http://localhost:8000/media/runtime_0001/runtimeprocess_0008/output/pipeline.pkl',\n",
       "   'size': '183007',\n",
       "   'sizeHumanized': '183.0 kB',\n",
       "   'name': 'runtime_0001/runtimeprocess_0008/output/pipeline.pkl'}},\n",
       " {'id': '1',\n",
       "  'name': 'random_forest',\n",
       "  'description': None,\n",
       "  'status': 'DONE',\n",
       "  'modelType': 'model',\n",
       "  'modelPk': 22,\n",
       "  'allMetricsJson': None,\n",
       "  'createdAt': '2021-02-08T17:17:58.534127',\n",
       "  'testScore': None,\n",
       "  'model': {'id': '22',\n",
       "   'trainScore': -2439.149837983871,\n",
       "   'validScore': -2652.9879717803033},\n",
       "  'file': {'url': 'http://localhost:8000/media/runtime_0001/runtimeprocess_0007/output/pipeline.pkl',\n",
       "   'size': '183007',\n",
       "   'sizeHumanized': '183.0 kB',\n",
       "   'name': 'runtime_0001/runtimeprocess_0007/output/pipeline.pkl'}}]"
      ]
     },
     "execution_count": 15,
     "metadata": {},
     "output_type": "execute_result"
    }
   ],
   "source": [
    "# Deployment 정보 구해오기 \n",
    "deployments = experiment.deployments()\n",
    "print(f'배포된 모델은 {len(deployments)}개 입니다.')\n",
    "deployments"
   ]
  },
  {
   "cell_type": "code",
   "execution_count": 16,
   "id": "choice-dragon",
   "metadata": {},
   "outputs": [
    {
     "data": {
      "text/plain": [
       "{'id': '2',\n",
       " 'name': 'random_forest',\n",
       " 'description': None,\n",
       " 'status': 'DONE',\n",
       " 'modelType': 'model',\n",
       " 'modelPk': 24,\n",
       " 'allMetricsJson': None,\n",
       " 'createdAt': '2021-02-08T17:18:37.679374',\n",
       " 'testScore': None,\n",
       " 'model': {'id': '24',\n",
       "  'trainScore': -2439.149837983871,\n",
       "  'validScore': -2652.9879717803033},\n",
       " 'file': {'url': 'http://localhost:8000/media/runtime_0001/runtimeprocess_0008/output/pipeline.pkl',\n",
       "  'size': '183007',\n",
       "  'sizeHumanized': '183.0 kB',\n",
       "  'name': 'runtime_0001/runtimeprocess_0008/output/pipeline.pkl'}}"
      ]
     },
     "execution_count": 16,
     "metadata": {},
     "output_type": "execute_result"
    }
   ],
   "source": [
    "deployed_model = deployments[0]\n",
    "deployed_model"
   ]
  },
  {
   "cell_type": "code",
   "execution_count": 17,
   "id": "reduced-terror",
   "metadata": {},
   "outputs": [
    {
     "data": {
      "text/plain": [
       "{'age': '0.0162806757273067',\n",
       " 'sex': '-0.044641636506989005',\n",
       " 'bmi': '-0.0245287593917836',\n",
       " 'bp': '-0.00567061055493425',\n",
       " 's1': '-0.0373437341334407',\n",
       " 's2': '0.0162224364339952',\n",
       " 's3': '-0.0139477432193303',\n",
       " 's4': '-0.0394933828740919',\n",
       " 's5': '-0.0181182673078967',\n",
       " 's6': '0.0030644094143683197'}"
      ]
     },
     "execution_count": 17,
     "metadata": {},
     "output_type": "execute_result"
    }
   ],
   "source": [
    "# 모델 예측을 위해 Default값인 최빈값을 구함\n",
    "columns = experiment.column_info()\n",
    "most_frequent = columns.most_frequent_values()\n",
    "most_frequent"
   ]
  },
  {
   "cell_type": "code",
   "execution_count": 18,
   "id": "prompt-positive",
   "metadata": {},
   "outputs": [
    {
     "data": {
      "text/plain": [
       "{'age': '0.0162806757273067',\n",
       " 'sex': '-0.044641636506989005',\n",
       " 'bmi': '-0.0245287593917836',\n",
       " 'bp': '-0.00567061055493425',\n",
       " 's1': '-0.0373437341334407',\n",
       " 's2': '0.0162224364339952',\n",
       " 's3': '-0.0139477432193303',\n",
       " 's4': '-0.0394933828740919',\n",
       " 's5': '-0.0181182673078967',\n",
       " 's6': '0.0030644094143683197'}"
      ]
     },
     "execution_count": 18,
     "metadata": {},
     "output_type": "execute_result"
    }
   ],
   "source": [
    "# 예측을 위한 input 값 생성 (그냥 최빈값 사용)\n",
    "input_val = most_frequent\n",
    "input_val "
   ]
  },
  {
   "cell_type": "code",
   "execution_count": 19,
   "id": "arabic-republican",
   "metadata": {},
   "outputs": [
    {
     "data": {
      "text/plain": [
       "'112.18'"
      ]
     },
     "execution_count": 19,
     "metadata": {},
     "output_type": "execute_result"
    }
   ],
   "source": [
    "# 예측 \n",
    "predict_val = deployed_model.predict(input_val)\n",
    "predict_val"
   ]
  },
  {
   "cell_type": "code",
   "execution_count": null,
   "id": "designed-basis",
   "metadata": {},
   "outputs": [],
   "source": []
  }
 ],
 "metadata": {
  "kernelspec": {
   "display_name": "Python 3",
   "language": "python",
   "name": "python3"
  },
  "language_info": {
   "codemirror_mode": {
    "name": "ipython",
    "version": 3
   },
   "file_extension": ".py",
   "mimetype": "text/x-python",
   "name": "python",
   "nbconvert_exporter": "python",
   "pygments_lexer": "ipython3",
   "version": "3.8.2"
  }
 },
 "nbformat": 4,
 "nbformat_minor": 5
}