{
 "cells": [
  {
   "cell_type": "code",
   "execution_count": 1,
   "id": "vertical-france",
   "metadata": {},
   "outputs": [],
   "source": [
    "from accutuning_client.client import Client"
   ]
  },
  {
   "cell_type": "code",
   "execution_count": 2,
   "id": "broken-plant",
   "metadata": {},
   "outputs": [],
   "source": [
    "client = Client('localhost', 8000)"
   ]
  },
  {
   "cell_type": "code",
   "execution_count": 3,
   "id": "compliant-library",
   "metadata": {},
   "outputs": [
    {
     "ename": "TransportQueryError",
     "evalue": "{'message': 'Please, enter valid credentials', 'locations': [{'line': 2, 'column': 3}], 'path': ['tokenAuth']}",
     "output_type": "error",
     "traceback": [
      "\u001b[0;31m---------------------------------------------------------------------------\u001b[0m",
      "\u001b[0;31mTransportQueryError\u001b[0m                       Traceback (most recent call last)",
      "\u001b[0;32m<ipython-input-3-35e26b0cc4a3>\u001b[0m in \u001b[0;36m<module>\u001b[0;34m\u001b[0m\n\u001b[0;32m----> 1\u001b[0;31m \u001b[0mclient\u001b[0m\u001b[0;34m.\u001b[0m\u001b[0mlogin\u001b[0m\u001b[0;34m(\u001b[0m\u001b[0;34m'autoinsight'\u001b[0m\u001b[0;34m,\u001b[0m \u001b[0;34m'autoinsight'\u001b[0m\u001b[0;34m)\u001b[0m\u001b[0;34m\u001b[0m\u001b[0;34m\u001b[0m\u001b[0m\n\u001b[0m",
      "\u001b[0;32m~/workspace/accutuning-client/accutuning_client/client.py\u001b[0m in \u001b[0;36mlogin\u001b[0;34m(self, id, password)\u001b[0m\n\u001b[1;32m     14\u001b[0m     \u001b[0;32mdef\u001b[0m \u001b[0mlogin\u001b[0m\u001b[0;34m(\u001b[0m\u001b[0mself\u001b[0m\u001b[0;34m,\u001b[0m \u001b[0mid\u001b[0m\u001b[0;34m,\u001b[0m \u001b[0mpassword\u001b[0m\u001b[0;34m)\u001b[0m\u001b[0;34m:\u001b[0m\u001b[0;34m\u001b[0m\u001b[0;34m\u001b[0m\u001b[0m\n\u001b[1;32m     15\u001b[0m         \u001b[0;34m\"\"\"아이디와 비밀번호를 가지고 로그인을 수행함\"\"\"\u001b[0m\u001b[0;34m\u001b[0m\u001b[0;34m\u001b[0m\u001b[0m\n\u001b[0;32m---> 16\u001b[0;31m         \u001b[0;32mreturn\u001b[0m \u001b[0mself\u001b[0m\u001b[0;34m.\u001b[0m\u001b[0m_api\u001b[0m\u001b[0;34m.\u001b[0m\u001b[0mlogin\u001b[0m\u001b[0;34m(\u001b[0m\u001b[0mid\u001b[0m\u001b[0;34m,\u001b[0m \u001b[0mpassword\u001b[0m\u001b[0;34m)\u001b[0m\u001b[0;34m\u001b[0m\u001b[0;34m\u001b[0m\u001b[0m\n\u001b[0m\u001b[1;32m     17\u001b[0m \u001b[0;34m\u001b[0m\u001b[0m\n\u001b[1;32m     18\u001b[0m     \u001b[0;31m# def login_rest(self, id, password):  # TODO graphql 버전 검증 끝나면 삭제예정\u001b[0m\u001b[0;34m\u001b[0m\u001b[0;34m\u001b[0m\u001b[0;34m\u001b[0m\u001b[0m\n",
      "\u001b[0;32m~/workspace/accutuning-client/accutuning_client/util.py\u001b[0m in \u001b[0;36mlogin\u001b[0;34m(self, id, password)\u001b[0m\n\u001b[1;32m     22\u001b[0m     \u001b[0;32mdef\u001b[0m \u001b[0mlogin\u001b[0m\u001b[0;34m(\u001b[0m\u001b[0mself\u001b[0m\u001b[0;34m,\u001b[0m \u001b[0mid\u001b[0m\u001b[0;34m,\u001b[0m \u001b[0mpassword\u001b[0m\u001b[0;34m)\u001b[0m\u001b[0;34m:\u001b[0m\u001b[0;34m\u001b[0m\u001b[0;34m\u001b[0m\u001b[0m\n\u001b[1;32m     23\u001b[0m         \u001b[0;34m\"\"\"입력받은 id, password를 가지고 로그인을 수행합니다.\"\"\"\u001b[0m\u001b[0;34m\u001b[0m\u001b[0;34m\u001b[0m\u001b[0m\n\u001b[0;32m---> 24\u001b[0;31m         \u001b[0mtoken\u001b[0m \u001b[0;34m=\u001b[0m \u001b[0mself\u001b[0m\u001b[0;34m.\u001b[0m\u001b[0m_get_token\u001b[0m\u001b[0;34m(\u001b[0m\u001b[0mid\u001b[0m\u001b[0;34m,\u001b[0m \u001b[0mpassword\u001b[0m\u001b[0;34m)\u001b[0m\u001b[0;34m\u001b[0m\u001b[0;34m\u001b[0m\u001b[0m\n\u001b[0m\u001b[1;32m     25\u001b[0m         \u001b[0mtoken_exp_time\u001b[0m \u001b[0;34m=\u001b[0m \u001b[0mself\u001b[0m\u001b[0;34m.\u001b[0m\u001b[0m_get_token_expire_time\u001b[0m\u001b[0;34m(\u001b[0m\u001b[0mtoken\u001b[0m\u001b[0;34m)\u001b[0m\u001b[0;34m\u001b[0m\u001b[0;34m\u001b[0m\u001b[0m\n\u001b[1;32m     26\u001b[0m         \u001b[0mself\u001b[0m\u001b[0;34m.\u001b[0m\u001b[0m_write_token_info\u001b[0m\u001b[0;34m(\u001b[0m\u001b[0mtoken\u001b[0m\u001b[0;34m,\u001b[0m \u001b[0mtoken_exp_time\u001b[0m\u001b[0;34m)\u001b[0m\u001b[0;34m\u001b[0m\u001b[0;34m\u001b[0m\u001b[0m\n",
      "\u001b[0;32m~/workspace/accutuning-client/accutuning_client/util.py\u001b[0m in \u001b[0;36m_get_token\u001b[0;34m(self, id, password)\u001b[0m\n\u001b[1;32m     96\u001b[0m             }\n\u001b[1;32m     97\u001b[0m         '''\n\u001b[0;32m---> 98\u001b[0;31m         \u001b[0mresult\u001b[0m \u001b[0;34m=\u001b[0m \u001b[0mself\u001b[0m\u001b[0;34m.\u001b[0m\u001b[0m_GRAPHQL\u001b[0m\u001b[0;34m(\u001b[0m\u001b[0mquery\u001b[0m\u001b[0;34m,\u001b[0m \u001b[0;34m{\u001b[0m\u001b[0;34m'username'\u001b[0m\u001b[0;34m:\u001b[0m \u001b[0mid\u001b[0m\u001b[0;34m,\u001b[0m \u001b[0;34m'password'\u001b[0m\u001b[0;34m:\u001b[0m \u001b[0mpassword\u001b[0m\u001b[0;34m}\u001b[0m\u001b[0;34m)\u001b[0m\u001b[0;34m\u001b[0m\u001b[0;34m\u001b[0m\u001b[0m\n\u001b[0m\u001b[1;32m     99\u001b[0m         \u001b[0mtoken\u001b[0m \u001b[0;34m=\u001b[0m \u001b[0mresult\u001b[0m\u001b[0;34m.\u001b[0m\u001b[0mget\u001b[0m\u001b[0;34m(\u001b[0m\u001b[0;34m'tokenAuth.token'\u001b[0m\u001b[0;34m)\u001b[0m\u001b[0;34m\u001b[0m\u001b[0;34m\u001b[0m\u001b[0m\n\u001b[1;32m    100\u001b[0m         \u001b[0;32mreturn\u001b[0m \u001b[0mtoken\u001b[0m\u001b[0;34m\u001b[0m\u001b[0;34m\u001b[0m\u001b[0m\n",
      "\u001b[0;32m~/workspace/accutuning-client/accutuning_client/util.py\u001b[0m in \u001b[0;36m_GRAPHQL\u001b[0;34m(self, query, params)\u001b[0m\n\u001b[1;32m     50\u001b[0m \u001b[0;34m\u001b[0m\u001b[0m\n\u001b[1;32m     51\u001b[0m         \u001b[0mclient\u001b[0m \u001b[0;34m=\u001b[0m \u001b[0mClient\u001b[0m\u001b[0;34m(\u001b[0m\u001b[0mtransport\u001b[0m\u001b[0;34m=\u001b[0m\u001b[0mtransport\u001b[0m\u001b[0;34m,\u001b[0m \u001b[0mfetch_schema_from_transport\u001b[0m\u001b[0;34m=\u001b[0m\u001b[0mself\u001b[0m\u001b[0;34m.\u001b[0m\u001b[0m_schema_validation\u001b[0m\u001b[0;34m)\u001b[0m\u001b[0;34m\u001b[0m\u001b[0;34m\u001b[0m\u001b[0m\n\u001b[0;32m---> 52\u001b[0;31m         \u001b[0mresult\u001b[0m \u001b[0;34m=\u001b[0m \u001b[0mclient\u001b[0m\u001b[0;34m.\u001b[0m\u001b[0mexecute\u001b[0m\u001b[0;34m(\u001b[0m\u001b[0mgql\u001b[0m\u001b[0;34m(\u001b[0m\u001b[0mquery\u001b[0m\u001b[0;34m)\u001b[0m\u001b[0;34m,\u001b[0m \u001b[0mvariable_values\u001b[0m\u001b[0;34m=\u001b[0m\u001b[0mparams\u001b[0m\u001b[0;34m)\u001b[0m\u001b[0;34m\u001b[0m\u001b[0;34m\u001b[0m\u001b[0m\n\u001b[0m\u001b[1;32m     53\u001b[0m         \u001b[0;32mreturn\u001b[0m \u001b[0mExtDict\u001b[0m\u001b[0;34m(\u001b[0m\u001b[0mdict_obj\u001b[0m\u001b[0;34m=\u001b[0m\u001b[0mresult\u001b[0m\u001b[0;34m)\u001b[0m\u001b[0;34m\u001b[0m\u001b[0;34m\u001b[0m\u001b[0m\n\u001b[1;32m     54\u001b[0m \u001b[0;34m\u001b[0m\u001b[0m\n",
      "\u001b[0;32m~/.local/share/virtualenvs/accutuning-client-qRVfHRBZ/lib/python3.8/site-packages/gql/client.py\u001b[0m in \u001b[0;36mexecute\u001b[0;34m(self, document, *args, **kwargs)\u001b[0m\n\u001b[1;32m    172\u001b[0m \u001b[0;34m\u001b[0m\u001b[0m\n\u001b[1;32m    173\u001b[0m         \u001b[0;32melse\u001b[0m\u001b[0;34m:\u001b[0m  \u001b[0;31m# Sync transports\u001b[0m\u001b[0;34m\u001b[0m\u001b[0;34m\u001b[0m\u001b[0m\n\u001b[0;32m--> 174\u001b[0;31m             \u001b[0;32mreturn\u001b[0m \u001b[0mself\u001b[0m\u001b[0;34m.\u001b[0m\u001b[0mexecute_sync\u001b[0m\u001b[0;34m(\u001b[0m\u001b[0mdocument\u001b[0m\u001b[0;34m,\u001b[0m \u001b[0;34m*\u001b[0m\u001b[0margs\u001b[0m\u001b[0;34m,\u001b[0m \u001b[0;34m**\u001b[0m\u001b[0mkwargs\u001b[0m\u001b[0;34m)\u001b[0m\u001b[0;34m\u001b[0m\u001b[0;34m\u001b[0m\u001b[0m\n\u001b[0m\u001b[1;32m    175\u001b[0m \u001b[0;34m\u001b[0m\u001b[0m\n\u001b[1;32m    176\u001b[0m     async def subscribe_async(\n",
      "\u001b[0;32m~/.local/share/virtualenvs/accutuning-client-qRVfHRBZ/lib/python3.8/site-packages/gql/client.py\u001b[0m in \u001b[0;36mexecute_sync\u001b[0;34m(self, document, *args, **kwargs)\u001b[0m\n\u001b[1;32m    120\u001b[0m         \u001b[0;34m\"\"\":meta private:\"\"\"\u001b[0m\u001b[0;34m\u001b[0m\u001b[0;34m\u001b[0m\u001b[0m\n\u001b[1;32m    121\u001b[0m         \u001b[0;32mwith\u001b[0m \u001b[0mself\u001b[0m \u001b[0;32mas\u001b[0m \u001b[0msession\u001b[0m\u001b[0;34m:\u001b[0m\u001b[0;34m\u001b[0m\u001b[0;34m\u001b[0m\u001b[0m\n\u001b[0;32m--> 122\u001b[0;31m             \u001b[0;32mreturn\u001b[0m \u001b[0msession\u001b[0m\u001b[0;34m.\u001b[0m\u001b[0mexecute\u001b[0m\u001b[0;34m(\u001b[0m\u001b[0mdocument\u001b[0m\u001b[0;34m,\u001b[0m \u001b[0;34m*\u001b[0m\u001b[0margs\u001b[0m\u001b[0;34m,\u001b[0m \u001b[0;34m**\u001b[0m\u001b[0mkwargs\u001b[0m\u001b[0;34m)\u001b[0m\u001b[0;34m\u001b[0m\u001b[0;34m\u001b[0m\u001b[0m\n\u001b[0m\u001b[1;32m    123\u001b[0m \u001b[0;34m\u001b[0m\u001b[0m\n\u001b[1;32m    124\u001b[0m     \u001b[0;32masync\u001b[0m \u001b[0;32mdef\u001b[0m \u001b[0mexecute_async\u001b[0m\u001b[0;34m(\u001b[0m\u001b[0mself\u001b[0m\u001b[0;34m,\u001b[0m \u001b[0mdocument\u001b[0m\u001b[0;34m:\u001b[0m \u001b[0mDocumentNode\u001b[0m\u001b[0;34m,\u001b[0m \u001b[0;34m*\u001b[0m\u001b[0margs\u001b[0m\u001b[0;34m,\u001b[0m \u001b[0;34m**\u001b[0m\u001b[0mkwargs\u001b[0m\u001b[0;34m)\u001b[0m \u001b[0;34m->\u001b[0m \u001b[0mDict\u001b[0m\u001b[0;34m:\u001b[0m\u001b[0;34m\u001b[0m\u001b[0;34m\u001b[0m\u001b[0m\n",
      "\u001b[0;32m~/.local/share/virtualenvs/accutuning-client-qRVfHRBZ/lib/python3.8/site-packages/gql/client.py\u001b[0m in \u001b[0;36mexecute\u001b[0;34m(self, document, *args, **kwargs)\u001b[0m\n\u001b[1;32m    304\u001b[0m         \u001b[0;31m# Raise an error if an error is returned in the ExecutionResult object\u001b[0m\u001b[0;34m\u001b[0m\u001b[0;34m\u001b[0m\u001b[0;34m\u001b[0m\u001b[0m\n\u001b[1;32m    305\u001b[0m         \u001b[0;32mif\u001b[0m \u001b[0mresult\u001b[0m\u001b[0;34m.\u001b[0m\u001b[0merrors\u001b[0m\u001b[0;34m:\u001b[0m\u001b[0;34m\u001b[0m\u001b[0;34m\u001b[0m\u001b[0m\n\u001b[0;32m--> 306\u001b[0;31m             raise TransportQueryError(\n\u001b[0m\u001b[1;32m    307\u001b[0m                 \u001b[0mstr\u001b[0m\u001b[0;34m(\u001b[0m\u001b[0mresult\u001b[0m\u001b[0;34m.\u001b[0m\u001b[0merrors\u001b[0m\u001b[0;34m[\u001b[0m\u001b[0;36m0\u001b[0m\u001b[0;34m]\u001b[0m\u001b[0;34m)\u001b[0m\u001b[0;34m,\u001b[0m \u001b[0merrors\u001b[0m\u001b[0;34m=\u001b[0m\u001b[0mresult\u001b[0m\u001b[0;34m.\u001b[0m\u001b[0merrors\u001b[0m\u001b[0;34m,\u001b[0m \u001b[0mdata\u001b[0m\u001b[0;34m=\u001b[0m\u001b[0mresult\u001b[0m\u001b[0;34m.\u001b[0m\u001b[0mdata\u001b[0m\u001b[0;34m\u001b[0m\u001b[0;34m\u001b[0m\u001b[0m\n\u001b[1;32m    308\u001b[0m             )\n",
      "\u001b[0;31mTransportQueryError\u001b[0m: {'message': 'Please, enter valid credentials', 'locations': [{'line': 2, 'column': 3}], 'path': ['tokenAuth']}"
     ]
    }
   ],
   "source": [
    "client.login('autoinsight', 'autoinsight')"
   ]
  },
  {
   "cell_type": "code",
   "execution_count": 3,
   "id": "certain-forest",
   "metadata": {},
   "outputs": [
    {
     "name": "stdout",
     "output_type": "stream",
     "text": [
      "현재 Experiments는 총 8개 있습니다.\n"
     ]
    },
    {
     "data": {
      "text/plain": [
       "8 Experiments\n",
       "=======================\n",
       "Experiment(id=8, name=Experiment-8, dataset.name=boston, dataset.colCount=15, status=finished, estimatorType=REGRESSOR, metric=NEG_MEAN_SQUARED_ERROR, modelsCnt=299, deploymentsCnt=1)\n",
       "Experiment(id=7, name=Experiment-7, dataset.name=boston, dataset.colCount=15, status=ready, estimatorType=REGRESSOR, metric=NEG_MEAN_SQUARED_ERROR)\n",
       "Experiment(id=6, name=Experiment-6, dataset.name=boston, dataset.colCount=15, status=finished, estimatorType=REGRESSOR, metric=NEG_MEAN_SQUARED_ERROR, modelsCnt=220, deploymentsCnt=1)\n",
       "Experiment(id=5, name=Experiment-5, dataset.name=boston, dataset.colCount=15, status=ready, estimatorType=REGRESSOR, metric=NEG_MEAN_SQUARED_ERROR)\n",
       "Experiment(id=4, name=Experiment-4, dataset.name=boston, dataset.colCount=15, status=ready, estimatorType=REGRESSOR, metric=NEG_MEAN_SQUARED_ERROR)\n",
       "Experiment(id=3, name=Experiment-3, dataset.name=boston, dataset.colCount=15, status=ready, estimatorType=REGRESSOR, metric=NEG_MEAN_SQUARED_ERROR)\n",
       "Experiment(id=2, name=Experiment-2, dataset.name=boston, dataset.colCount=15, status=ready, estimatorType=REGRESSOR, metric=NEG_MEAN_SQUARED_ERROR)\n",
       "Experiment(id=1, name=Experiment-1, dataset.name=boston, dataset.colCount=15, status=ready, estimatorType=REGRESSOR, metric=NEG_MEAN_SQUARED_ERROR)"
      ]
     },
     "execution_count": 3,
     "metadata": {},
     "output_type": "execute_result"
    }
   ],
   "source": [
    "# Experiment의 List를 불러온다.\n",
    "experiments = client.experiments()\n",
    "print(f'현재 Experiments는 총 {len(experiments)}개 있습니다.')\n",
    "experiments"
   ]
  },
  {
   "cell_type": "code",
   "execution_count": 4,
   "id": "accessory-retrieval",
   "metadata": {},
   "outputs": [
    {
     "data": {
      "text/plain": [
       "Experiment(id=9, name=Experiment-9, status=creating, estimatorType=CLASSIFIER, metric=accuracy)"
      ]
     },
     "execution_count": 4,
     "metadata": {},
     "output_type": "execute_result"
    }
   ],
   "source": [
    "# Local File에서 Experiment를 생성한다. \n",
    "experiment_new = client.create_experiment_from_file('/Users/ahaljh/Downloads/iris1.csv')\n",
    "experiment_new"
   ]
  },
  {
   "cell_type": "code",
   "execution_count": 6,
   "id": "transsexual-antigua",
   "metadata": {},
   "outputs": [
    {
     "data": {
      "text/plain": [
       "Experiment(id=9, name=Experiment-9, dataset.name=iris1, dataset.colCount=5, status=ready, estimatorType=CLASSIFIER, metric=ACCURACY)"
      ]
     },
     "execution_count": 6,
     "metadata": {},
     "output_type": "execute_result"
    }
   ],
   "source": [
    "experiment_new"
   ]
  },
  {
   "cell_type": "code",
   "execution_count": 8,
   "id": "copyrighted-congress",
   "metadata": {},
   "outputs": [
    {
     "name": "stdout",
     "output_type": "stream",
     "text": [
      "{'patchRecommendationConfig': {'dataset': {'id': '9', 'processingStatus': 'READY'}}}\n"
     ]
    }
   ],
   "source": [
    "# 전처리를 추천받아 preprocessor config를 변경 \n",
    "experiment_new.recommend()"
   ]
  },
  {
   "cell_type": "code",
   "execution_count": 11,
   "id": "patient-timer",
   "metadata": {},
   "outputs": [
    {
     "data": {
      "text/plain": [
       "True"
      ]
     },
     "execution_count": 11,
     "metadata": {},
     "output_type": "execute_result"
    }
   ],
   "source": [
    "# Run AutoML\n",
    "experiment_new.run()"
   ]
  },
  {
   "cell_type": "code",
   "execution_count": 12,
   "id": "deluxe-croatia",
   "metadata": {},
   "outputs": [
    {
     "name": "stdout",
     "output_type": "stream",
     "text": [
      "현재 Experiments는 총 3개 있습니다.\n"
     ]
    },
    {
     "data": {
      "text/plain": [
       "3 Experiments\n",
       "=======================\n",
       "Experiment(id=5, name=Experiment-5, dataset.name=iris1, dataset.colCount=5, status=learning, estimatorType=CLASSIFIER, metric=ACCURACY)\n",
       "Experiment(id=4, name=Experiment-4, dataset.name=iris, dataset.colCount=5, status=finished, estimatorType=CLASSIFIER, metric=ACCURACY, modelsCnt=58, deploymentsCnt=1)\n",
       "Experiment(id=3, name=Experiment-3, dataset.name=boston, dataset.colCount=15, status=finished, estimatorType=REGRESSOR, metric=NEG_MEAN_SQUARED_ERROR, modelsCnt=57, deploymentsCnt=1)"
      ]
     },
     "execution_count": 12,
     "metadata": {},
     "output_type": "execute_result"
    }
   ],
   "source": [
    "# Experiment의 List를 불러온다.\n",
    "experiments = client.experiments()\n",
    "print(f'현재 Experiments는 총 {len(experiments)}개 있습니다.')\n",
    "experiments"
   ]
  },
  {
   "cell_type": "code",
   "execution_count": 4,
   "id": "sweet-logistics",
   "metadata": {},
   "outputs": [
    {
     "data": {
      "text/plain": [
       "Experiment(id=4, name=Experiment-4, dataset.name=iris, dataset.colCount=5, status=finished, estimatorType=CLASSIFIER, metric=ACCURACY, modelsCnt=58, deploymentsCnt=2)"
      ]
     },
     "execution_count": 4,
     "metadata": {},
     "output_type": "execute_result"
    }
   ],
   "source": [
    "# 시간이 오래 걸리니까 완료된 experiment를 다시 선택\n",
    "experiment = experiments.get(id=4)\n",
    "# experiment = experiments[1]  # 이 형태도 가능함\n",
    "experiment"
   ]
  },
  {
   "cell_type": "code",
   "execution_count": 5,
   "id": "incoming-warehouse",
   "metadata": {},
   "outputs": [
    {
     "name": "stdout",
     "output_type": "stream",
     "text": [
      "leaderboad의 model 갯수는 58\n",
      "__repr__\n",
      "time diff:0.0007739067077636719\n",
      "deployedStatus:DONE\n",
      "__repr__\n",
      "time diff:0.0009322166442871094\n",
      "deployedStatus:DONE\n",
      "__repr__\n",
      "time diff:0.00109100341796875\n",
      "deployedStatus:None\n",
      "__repr__\n",
      "time diff:0.0012171268463134766\n",
      "deployedStatus:None\n",
      "__repr__\n",
      "time diff:0.0013167858123779297\n",
      "deployedStatus:None\n",
      "__repr__\n",
      "time diff:0.001425027847290039\n",
      "deployedStatus:None\n",
      "__repr__\n",
      "time diff:0.0017390251159667969\n",
      "deployedStatus:None\n",
      "__repr__\n",
      "time diff:0.0018079280853271484\n",
      "deployedStatus:None\n",
      "__repr__\n",
      "time diff:0.0018668174743652344\n",
      "deployedStatus:None\n",
      "__repr__\n",
      "time diff:0.001928091049194336\n",
      "deployedStatus:None\n",
      "__repr__\n",
      "time diff:0.001980304718017578\n",
      "deployedStatus:None\n",
      "__repr__\n",
      "time diff:0.0020389556884765625\n",
      "deployedStatus:None\n",
      "__repr__\n",
      "time diff:0.002099752426147461\n",
      "deployedStatus:None\n",
      "__repr__\n",
      "time diff:0.002155780792236328\n",
      "deployedStatus:None\n",
      "__repr__\n",
      "time diff:0.0022172927856445312\n",
      "deployedStatus:None\n",
      "__repr__\n",
      "time diff:0.0022809505462646484\n",
      "deployedStatus:None\n",
      "__repr__\n",
      "time diff:0.0024700164794921875\n",
      "deployedStatus:None\n",
      "__repr__\n",
      "time diff:0.0027551651000976562\n",
      "deployedStatus:None\n",
      "__repr__\n",
      "time diff:0.002849102020263672\n",
      "deployedStatus:None\n",
      "__repr__\n",
      "time diff:0.00290679931640625\n",
      "deployedStatus:None\n",
      "__repr__\n",
      "time diff:0.0029680728912353516\n",
      "deployedStatus:None\n",
      "__repr__\n",
      "time diff:0.003025054931640625\n",
      "deployedStatus:None\n",
      "__repr__\n",
      "time diff:0.003086090087890625\n",
      "deployedStatus:None\n",
      "__repr__\n",
      "time diff:0.0031447410583496094\n",
      "deployedStatus:None\n",
      "__repr__\n",
      "time diff:0.0032029151916503906\n",
      "deployedStatus:None\n",
      "__repr__\n",
      "time diff:0.003262042999267578\n",
      "deployedStatus:None\n",
      "__repr__\n",
      "time diff:0.0033190250396728516\n",
      "deployedStatus:None\n",
      "__repr__\n",
      "time diff:0.0035707950592041016\n",
      "deployedStatus:None\n",
      "__repr__\n",
      "time diff:0.0036301612854003906\n",
      "deployedStatus:None\n",
      "__repr__\n",
      "time diff:0.0036878585815429688\n",
      "deployedStatus:None\n",
      "__repr__\n",
      "time diff:0.003862142562866211\n",
      "deployedStatus:None\n",
      "__repr__\n",
      "time diff:0.0039479732513427734\n",
      "deployedStatus:None\n",
      "__repr__\n",
      "time diff:0.0040171146392822266\n",
      "deployedStatus:None\n",
      "__repr__\n",
      "time diff:0.00408172607421875\n",
      "deployedStatus:None\n",
      "__repr__\n",
      "time diff:0.004183769226074219\n",
      "deployedStatus:None\n",
      "__repr__\n",
      "time diff:0.00423884391784668\n",
      "deployedStatus:None\n",
      "__repr__\n",
      "time diff:0.004302978515625\n",
      "deployedStatus:None\n",
      "__repr__\n",
      "time diff:0.004363059997558594\n",
      "deployedStatus:None\n",
      "__repr__\n",
      "time diff:0.004423856735229492\n",
      "deployedStatus:None\n",
      "__repr__\n",
      "time diff:0.004587888717651367\n",
      "deployedStatus:None\n",
      "__repr__\n",
      "time diff:0.004646778106689453\n",
      "deployedStatus:None\n",
      "__repr__\n",
      "time diff:0.004704952239990234\n",
      "deployedStatus:None\n",
      "__repr__\n",
      "time diff:0.004761695861816406\n",
      "deployedStatus:None\n",
      "__repr__\n",
      "time diff:0.004821062088012695\n",
      "deployedStatus:None\n",
      "__repr__\n",
      "time diff:0.005104780197143555\n",
      "deployedStatus:None\n",
      "__repr__\n",
      "time diff:0.0051691532135009766\n",
      "deployedStatus:None\n",
      "__repr__\n",
      "time diff:0.005232095718383789\n",
      "deployedStatus:None\n",
      "__repr__\n",
      "time diff:0.005290031433105469\n",
      "deployedStatus:None\n",
      "__repr__\n",
      "time diff:0.0053479671478271484\n",
      "deployedStatus:None\n",
      "__repr__\n",
      "time diff:0.005407810211181641\n",
      "deployedStatus:None\n",
      "__repr__\n",
      "time diff:0.005467891693115234\n",
      "deployedStatus:None\n",
      "__repr__\n",
      "time diff:0.0056650638580322266\n",
      "deployedStatus:None\n",
      "__repr__\n",
      "time diff:0.005726814270019531\n",
      "deployedStatus:None\n",
      "__repr__\n",
      "time diff:0.005784034729003906\n",
      "deployedStatus:None\n",
      "__repr__\n",
      "time diff:0.005837917327880859\n",
      "deployedStatus:None\n",
      "__repr__\n",
      "time diff:0.006139278411865234\n",
      "deployedStatus:None\n",
      "__repr__\n",
      "time diff:0.006219148635864258\n",
      "deployedStatus:None\n",
      "__repr__\n",
      "time diff:0.006284236907958984\n",
      "deployedStatus:None\n"
     ]
    },
    {
     "data": {
      "text/plain": [
       "[Model{'id': '83', 'score': 0.9555555555555556, 'trainScore': 0.9523809523809523, 'validScore': 0.9555555555555556, 'testScore': 0.0, 'estimatorName': 'xgboost', 'generator': 'optuna-pycaret', 'file': {'size': '146775', 'sizeHumanized': '146.8 kB'}, 'deployedStatus': 'DONE'},\n",
       " Model{'id': '85', 'score': 0.9555555555555556, 'trainScore': 0.9523809523809523, 'validScore': 0.9555555555555556, 'testScore': 0.0, 'estimatorName': 'xgboost', 'generator': 'optuna-pycaret', 'file': {'size': '146773', 'sizeHumanized': '146.8 kB'}, 'deployedStatus': 'DONE'},\n",
       " Model{'id': '86', 'score': 0.9555555555555556, 'trainScore': 0.9523809523809523, 'validScore': 0.9555555555555556, 'testScore': 0.0, 'estimatorName': 'xgboost', 'generator': 'optuna-pycaret', 'file': {'size': '146773', 'sizeHumanized': '146.8 kB'}, 'deployedStatus': None},\n",
       " Model{'id': '91', 'score': 0.9555555555555556, 'trainScore': 0.9904761904761905, 'validScore': 0.9555555555555556, 'testScore': 0.0, 'estimatorName': 'xgboost', 'generator': 'optuna-pycaret', 'file': {'size': '161694', 'sizeHumanized': '161.7 kB'}, 'deployedStatus': None},\n",
       " Model{'id': '92', 'score': 0.9555555555555556, 'trainScore': 0.9904761904761905, 'validScore': 0.9555555555555556, 'testScore': 0.0, 'estimatorName': 'xgboost', 'generator': 'optuna-pycaret', 'file': {'size': '161694', 'sizeHumanized': '161.7 kB'}, 'deployedStatus': None},\n",
       " Model{'id': '93', 'score': 0.9555555555555556, 'trainScore': 0.9523809523809523, 'validScore': 0.9555555555555556, 'testScore': 0.0, 'estimatorName': 'xgboost', 'generator': 'optuna-pycaret', 'file': {'size': '145005', 'sizeHumanized': '145.0 kB'}, 'deployedStatus': None},\n",
       " Model{'id': '94', 'score': 0.9555555555555556, 'trainScore': 0.9523809523809523, 'validScore': 0.9555555555555556, 'testScore': 0.0, 'estimatorName': 'xgboost', 'generator': 'optuna-pycaret', 'file': {'size': '143014', 'sizeHumanized': '143.0 kB'}, 'deployedStatus': None},\n",
       " Model{'id': '95', 'score': 0.9555555555555556, 'trainScore': 0.9809523809523809, 'validScore': 0.9555555555555556, 'testScore': 0.0, 'estimatorName': 'xgboost', 'generator': 'optuna-pycaret', 'file': {'size': '158990', 'sizeHumanized': '159.0 kB'}, 'deployedStatus': None},\n",
       " Model{'id': '96', 'score': 0.9555555555555556, 'trainScore': 0.9619047619047619, 'validScore': 0.9555555555555556, 'testScore': 0.0, 'estimatorName': 'xgboost', 'generator': 'optuna-pycaret', 'file': {'size': '145223', 'sizeHumanized': '145.2 kB'}, 'deployedStatus': None},\n",
       " Model{'id': '97', 'score': 0.9555555555555556, 'trainScore': 0.9523809523809523, 'validScore': 0.9555555555555556, 'testScore': 0.0, 'estimatorName': 'xgboost', 'generator': 'optuna-pycaret', 'file': {'size': '147406', 'sizeHumanized': '147.4 kB'}, 'deployedStatus': None},\n",
       " Model{'id': '99', 'score': 0.9555555555555556, 'trainScore': 0.9333333333333333, 'validScore': 0.9555555555555556, 'testScore': 0.0, 'estimatorName': 'xgboost', 'generator': 'optuna-pycaret', 'file': {'size': '142546', 'sizeHumanized': '142.5 kB'}, 'deployedStatus': None},\n",
       " Model{'id': '101', 'score': 0.9555555555555556, 'trainScore': 0.9428571428571428, 'validScore': 0.9555555555555556, 'testScore': 0.0, 'estimatorName': 'xgboost', 'generator': 'optuna-pycaret', 'file': {'size': '141954', 'sizeHumanized': '142.0 kB'}, 'deployedStatus': None},\n",
       " Model{'id': '102', 'score': 0.9555555555555556, 'trainScore': 0.9428571428571428, 'validScore': 0.9555555555555556, 'testScore': 0.0, 'estimatorName': 'xgboost', 'generator': 'optuna-pycaret', 'file': {'size': '156987', 'sizeHumanized': '157.0 kB'}, 'deployedStatus': None},\n",
       " Model{'id': '105', 'score': 0.9555555555555556, 'trainScore': 0.9333333333333333, 'validScore': 0.9555555555555556, 'testScore': 0.0, 'estimatorName': 'xgboost', 'generator': 'optuna-pycaret', 'file': {'size': '142913', 'sizeHumanized': '142.9 kB'}, 'deployedStatus': None},\n",
       " Model{'id': '106', 'score': 0.9555555555555556, 'trainScore': 0.9523809523809523, 'validScore': 0.9555555555555556, 'testScore': 0.0, 'estimatorName': 'xgboost', 'generator': 'optuna-pycaret', 'file': {'size': '142847', 'sizeHumanized': '142.8 kB'}, 'deployedStatus': None},\n",
       " Model{'id': '107', 'score': 0.9555555555555556, 'trainScore': 0.9523809523809523, 'validScore': 0.9555555555555556, 'testScore': 0.0, 'estimatorName': 'xgboost', 'generator': 'optuna-pycaret', 'file': {'size': '146741', 'sizeHumanized': '146.7 kB'}, 'deployedStatus': None},\n",
       " Model{'id': '108', 'score': 0.9555555555555556, 'trainScore': 0.9523809523809523, 'validScore': 0.9555555555555556, 'testScore': 0.0, 'estimatorName': 'gradient_boosting', 'generator': 'optuna-pycaret', 'file': {'size': '744734', 'sizeHumanized': '744.7 kB'}, 'deployedStatus': None},\n",
       " Model{'id': '111', 'score': 0.9555555555555556, 'trainScore': 0.9523809523809523, 'validScore': 0.9555555555555556, 'testScore': 0.0, 'estimatorName': 'xgboost', 'generator': 'optuna-pycaret', 'file': {'size': '140247', 'sizeHumanized': '140.2 kB'}, 'deployedStatus': None},\n",
       " Model{'id': '114', 'score': 0.9555555555555556, 'trainScore': 0.9523809523809523, 'validScore': 0.9555555555555556, 'testScore': 0.0, 'estimatorName': 'xgboost', 'generator': 'optuna-pycaret', 'file': {'size': '146773', 'sizeHumanized': '146.8 kB'}, 'deployedStatus': None},\n",
       " Model{'id': '115', 'score': 0.9555555555555556, 'trainScore': 0.9809523809523809, 'validScore': 0.9555555555555556, 'testScore': 0.0, 'estimatorName': 'xgboost', 'generator': 'optuna-pycaret', 'file': {'size': '147082', 'sizeHumanized': '147.1 kB'}, 'deployedStatus': None},\n",
       " Model{'id': '59', 'score': 0.9333333333333333, 'trainScore': 1.0, 'validScore': 0.9333333333333333, 'testScore': 0.0, 'estimatorName': 'lightgbm', 'generator': 'optuna-pycaret', 'file': {'size': '900723', 'sizeHumanized': '900.7 kB'}, 'deployedStatus': None},\n",
       " Model{'id': '61', 'score': 0.9333333333333333, 'trainScore': 0.9809523809523809, 'validScore': 0.9333333333333333, 'testScore': 0.0, 'estimatorName': 'random_forest', 'generator': 'optuna-pycaret', 'file': {'size': '122651', 'sizeHumanized': '122.7 kB'}, 'deployedStatus': None},\n",
       " Model{'id': '62', 'score': 0.9333333333333333, 'trainScore': 0.9714285714285714, 'validScore': 0.9333333333333333, 'testScore': 0.0, 'estimatorName': 'xgboost', 'generator': 'optuna-pycaret', 'file': {'size': '136976', 'sizeHumanized': '137.0 kB'}, 'deployedStatus': None},\n",
       " Model{'id': '64', 'score': 0.9333333333333333, 'trainScore': 1.0, 'validScore': 0.9333333333333333, 'testScore': 0.0, 'estimatorName': 'gradient_boosting', 'generator': 'optuna-pycaret', 'file': {'size': '393817', 'sizeHumanized': '393.8 kB'}, 'deployedStatus': None},\n",
       " Model{'id': '65', 'score': 0.9333333333333333, 'trainScore': 0.9714285714285714, 'validScore': 0.9333333333333333, 'testScore': 0.0, 'estimatorName': 'decision_tree', 'generator': 'optuna-pycaret', 'file': {'size': '2732', 'sizeHumanized': '2.7 kB'}, 'deployedStatus': None},\n",
       " Model{'id': '66', 'score': 0.9333333333333333, 'trainScore': 0.9714285714285714, 'validScore': 0.9333333333333333, 'testScore': 0.0, 'estimatorName': 'logistic_regression', 'generator': 'optuna-pycaret', 'file': {'size': '1579', 'sizeHumanized': '1.6 kB'}, 'deployedStatus': None},\n",
       " Model{'id': '68', 'score': 0.9333333333333333, 'trainScore': 0.9809523809523809, 'validScore': 0.9333333333333333, 'testScore': 0.0, 'estimatorName': 'random_forest', 'generator': 'optuna-pycaret', 'file': {'size': '141066', 'sizeHumanized': '141.1 kB'}, 'deployedStatus': None},\n",
       " Model{'id': '70', 'score': 0.9333333333333333, 'trainScore': 0.9809523809523809, 'validScore': 0.9333333333333333, 'testScore': 0.0, 'estimatorName': 'random_forest', 'generator': 'optuna-pycaret', 'file': {'size': '96837', 'sizeHumanized': '96.8 kB'}, 'deployedStatus': None},\n",
       " Model{'id': '73', 'score': 0.9333333333333333, 'trainScore': 0.9428571428571428, 'validScore': 0.9333333333333333, 'testScore': 0.0, 'estimatorName': 'logistic_regression', 'generator': 'optuna-pycaret', 'file': {'size': '1999', 'sizeHumanized': '2.0 kB'}, 'deployedStatus': None},\n",
       " Model{'id': '74', 'score': 0.9333333333333333, 'trainScore': 0.9714285714285714, 'validScore': 0.9333333333333333, 'testScore': 0.0, 'estimatorName': 'logistic_regression', 'generator': 'optuna-pycaret', 'file': {'size': '1570', 'sizeHumanized': '1.6 kB'}, 'deployedStatus': None},\n",
       " Model{'id': '75', 'score': 0.9333333333333333, 'trainScore': 0.9809523809523809, 'validScore': 0.9333333333333333, 'testScore': 0.0, 'estimatorName': 'random_forest', 'generator': 'optuna-pycaret', 'file': {'size': '96197', 'sizeHumanized': '96.2 kB'}, 'deployedStatus': None},\n",
       " Model{'id': '76', 'score': 0.9333333333333333, 'trainScore': 0.9428571428571428, 'validScore': 0.9333333333333333, 'testScore': 0.0, 'estimatorName': 'logistic_regression', 'generator': 'optuna-pycaret', 'file': {'size': '1999', 'sizeHumanized': '2.0 kB'}, 'deployedStatus': None},\n",
       " Model{'id': '78', 'score': 0.9333333333333333, 'trainScore': 0.9714285714285714, 'validScore': 0.9333333333333333, 'testScore': 0.0, 'estimatorName': 'random_forest', 'generator': 'optuna-pycaret', 'file': {'size': '75077', 'sizeHumanized': '75.1 kB'}, 'deployedStatus': None},\n",
       " Model{'id': '80', 'score': 0.9333333333333333, 'trainScore': 0.9809523809523809, 'validScore': 0.9333333333333333, 'testScore': 0.0, 'estimatorName': 'random_forest', 'generator': 'optuna-pycaret', 'file': {'size': '96837', 'sizeHumanized': '96.8 kB'}, 'deployedStatus': None},\n",
       " Model{'id': '81', 'score': 0.9333333333333333, 'trainScore': 0.9809523809523809, 'validScore': 0.9333333333333333, 'testScore': 0.0, 'estimatorName': 'random_forest', 'generator': 'optuna-pycaret', 'file': {'size': '99877', 'sizeHumanized': '99.9 kB'}, 'deployedStatus': None},\n",
       " Model{'id': '82', 'score': 0.9333333333333333, 'trainScore': 0.9809523809523809, 'validScore': 0.9333333333333333, 'testScore': 0.0, 'estimatorName': 'random_forest', 'generator': 'optuna-pycaret', 'file': {'size': '99877', 'sizeHumanized': '99.9 kB'}, 'deployedStatus': None},\n",
       " Model{'id': '104', 'score': 0.9333333333333333, 'trainScore': 0.9619047619047619, 'validScore': 0.9333333333333333, 'testScore': 0.0, 'estimatorName': 'xgboost', 'generator': 'optuna-pycaret', 'file': {'size': '150267', 'sizeHumanized': '150.3 kB'}, 'deployedStatus': None},\n",
       " Model{'id': '109', 'score': 0.9333333333333333, 'trainScore': 1.0, 'validScore': 0.9333333333333333, 'testScore': 0.0, 'estimatorName': 'gradient_boosting', 'generator': 'optuna-pycaret', 'file': {'size': '879777', 'sizeHumanized': '879.8 kB'}, 'deployedStatus': None},\n",
       " Model{'id': '113', 'score': 0.9333333333333333, 'trainScore': 1.0, 'validScore': 0.9333333333333333, 'testScore': 0.0, 'estimatorName': 'gradient_boosting', 'generator': 'optuna-pycaret', 'file': {'size': '208429', 'sizeHumanized': '208.4 kB'}, 'deployedStatus': None},\n",
       " Model{'id': '77', 'score': 0.9111111111111111, 'trainScore': 0.9238095238095239, 'validScore': 0.9111111111111111, 'testScore': 0.0, 'estimatorName': 'logistic_regression', 'generator': 'optuna-pycaret', 'file': {'size': '2047', 'sizeHumanized': '2.0 kB'}, 'deployedStatus': None},\n",
       " Model{'id': '87', 'score': 0.9111111111111111, 'trainScore': 0.8857142857142857, 'validScore': 0.9111111111111111, 'testScore': 0.0, 'estimatorName': 'xgboost', 'generator': 'optuna-pycaret', 'file': {'size': '146653', 'sizeHumanized': '146.7 kB'}, 'deployedStatus': None},\n",
       " Model{'id': '89', 'score': 0.9111111111111111, 'trainScore': 0.9047619047619048, 'validScore': 0.9111111111111111, 'testScore': 0.0, 'estimatorName': 'xgboost', 'generator': 'optuna-pycaret', 'file': {'size': '160082', 'sizeHumanized': '160.1 kB'}, 'deployedStatus': None},\n",
       " Model{'id': '69', 'score': 0.8888888888888888, 'trainScore': 0.9523809523809523, 'validScore': 0.8888888888888888, 'testScore': 0.0, 'estimatorName': 'random_forest', 'generator': 'optuna-pycaret', 'file': {'size': '109965', 'sizeHumanized': '110.0 kB'}, 'deployedStatus': None},\n",
       " Model{'id': '100', 'score': 0.8888888888888888, 'trainScore': 0.8761904761904762, 'validScore': 0.8888888888888888, 'testScore': 0.0, 'estimatorName': 'xgboost', 'generator': 'optuna-pycaret', 'file': {'size': '137950', 'sizeHumanized': '137.9 kB'}, 'deployedStatus': None},\n",
       " Model{'id': '110', 'score': 0.8444444444444444, 'trainScore': 0.8666666666666667, 'validScore': 0.8444444444444444, 'testScore': 0.0, 'estimatorName': 'gradient_boosting', 'generator': 'optuna-pycaret', 'file': {'size': '508851', 'sizeHumanized': '508.9 kB'}, 'deployedStatus': None},\n",
       " Model{'id': '90', 'score': 0.7333333333333333, 'trainScore': 0.8095238095238095, 'validScore': 0.7333333333333333, 'testScore': 0.0, 'estimatorName': 'xgboost', 'generator': 'optuna-pycaret', 'file': {'size': '145355', 'sizeHumanized': '145.4 kB'}, 'deployedStatus': None},\n",
       " Model{'id': '60', 'score': 0.6222222222222222, 'trainScore': 0.6857142857142857, 'validScore': 0.6222222222222222, 'testScore': 0.0, 'estimatorName': 'decision_tree', 'generator': 'optuna-pycaret', 'file': {'size': '2223', 'sizeHumanized': '2.2 kB'}, 'deployedStatus': None},\n",
       " Model{'id': '67', 'score': 0.6222222222222222, 'trainScore': 0.6857142857142857, 'validScore': 0.6222222222222222, 'testScore': 0.0, 'estimatorName': 'libsvm_svc', 'generator': 'optuna-pycaret', 'file': {'size': '9459', 'sizeHumanized': '9.5 kB'}, 'deployedStatus': None},\n",
       " Model{'id': '71', 'score': 0.6222222222222222, 'trainScore': 0.6857142857142857, 'validScore': 0.6222222222222222, 'testScore': 0.0, 'estimatorName': 'decision_tree', 'generator': 'optuna-pycaret', 'file': {'size': '2572', 'sizeHumanized': '2.6 kB'}, 'deployedStatus': None},\n",
       " Model{'id': '84', 'score': 0.4888888888888889, 'trainScore': 0.5619047619047619, 'validScore': 0.4888888888888889, 'testScore': 0.0, 'estimatorName': 'xgboost', 'generator': 'optuna-pycaret', 'file': {'size': '131573', 'sizeHumanized': '131.6 kB'}, 'deployedStatus': None},\n",
       " Model{'id': '88', 'score': 0.4888888888888889, 'trainScore': 0.5619047619047619, 'validScore': 0.4888888888888889, 'testScore': 0.0, 'estimatorName': 'xgboost', 'generator': 'optuna-pycaret', 'file': {'size': '132108', 'sizeHumanized': '132.1 kB'}, 'deployedStatus': None},\n",
       " Model{'id': '58', 'score': 0.28888888888888886, 'trainScore': 0.3523809523809524, 'validScore': 0.28888888888888886, 'testScore': 0.0, 'estimatorName': 'xgboost', 'generator': 'optuna-pycaret', 'file': {'size': '132704', 'sizeHumanized': '132.7 kB'}, 'deployedStatus': None},\n",
       " Model{'id': '63', 'score': 0.28888888888888886, 'trainScore': 0.3523809523809524, 'validScore': 0.28888888888888886, 'testScore': 0.0, 'estimatorName': 'gradient_boosting', 'generator': 'optuna-pycaret', 'file': {'size': '156884', 'sizeHumanized': '156.9 kB'}, 'deployedStatus': None},\n",
       " Model{'id': '72', 'score': 0.28888888888888886, 'trainScore': 0.3523809523809524, 'validScore': 0.28888888888888886, 'testScore': 0.0, 'estimatorName': 'decision_tree', 'generator': 'optuna-pycaret', 'file': {'size': '2415', 'sizeHumanized': '2.4 kB'}, 'deployedStatus': None},\n",
       " Model{'id': '98', 'score': 0.28888888888888886, 'trainScore': 0.3523809523809524, 'validScore': 0.28888888888888886, 'testScore': 0.0, 'estimatorName': 'gradient_boosting', 'generator': 'optuna-pycaret', 'file': {'size': '157117', 'sizeHumanized': '157.1 kB'}, 'deployedStatus': None},\n",
       " Model{'id': '103', 'score': 0.28888888888888886, 'trainScore': 0.3523809523809524, 'validScore': 0.28888888888888886, 'testScore': 0.0, 'estimatorName': 'libsvm_svc', 'generator': 'optuna-pycaret', 'file': {'size': '9651', 'sizeHumanized': '9.7 kB'}, 'deployedStatus': None},\n",
       " Model{'id': '112', 'score': 0.28888888888888886, 'trainScore': 0.3523809523809524, 'validScore': 0.28888888888888886, 'testScore': 0.0, 'estimatorName': 'decision_tree', 'generator': 'optuna-pycaret', 'file': {'size': '2418', 'sizeHumanized': '2.4 kB'}, 'deployedStatus': None},\n",
       " Model{'id': '79', 'score': 0.15555555555555556, 'trainScore': 0.23809523809523808, 'validScore': 0.15555555555555556, 'testScore': 0.0, 'estimatorName': 'libsvm_svc', 'generator': 'optuna-pycaret', 'file': {'size': '5760', 'sizeHumanized': '5.8 kB'}, 'deployedStatus': None}]"
      ]
     },
     "execution_count": 5,
     "metadata": {},
     "output_type": "execute_result"
    }
   ],
   "source": [
    "# Leaderboard 정보 구해오기 \n",
    "leaderboard = experiment.leaderboard()\n",
    "print(f'leaderboad의 model 갯수는 {len(leaderboard)}')\n",
    "leaderboard"
   ]
  },
  {
   "cell_type": "code",
   "execution_count": 9,
   "id": "monthly-sullivan",
   "metadata": {},
   "outputs": [
    {
     "name": "stdout",
     "output_type": "stream",
     "text": [
      "__repr__\n",
      "time diff:15.456475973129272\n",
      "deployedStatus:DONE\n"
     ]
    },
    {
     "data": {
      "text/plain": [
       "Model{'id': '83', 'score': 0.9555555555555556, 'trainScore': 0.9523809523809523, 'validScore': 0.9555555555555556, 'testScore': 0.0, 'estimatorName': 'xgboost', 'generator': 'optuna-pycaret', 'file': {'size': '146775', 'sizeHumanized': '146.8 kB'}, 'deployedStatus': 'DONE'}"
      ]
     },
     "execution_count": 9,
     "metadata": {},
     "output_type": "execute_result"
    }
   ],
   "source": [
    "# 가장 순위 높은 모델 선택\n",
    "model = leaderboard.best_model()\n",
    "# model = leaderboard[0]  # 이 형태도 가능함\n",
    "model"
   ]
  },
  {
   "cell_type": "code",
   "execution_count": 12,
   "id": "alpine-partnership",
   "metadata": {},
   "outputs": [
    {
     "name": "stdout",
     "output_type": "stream",
     "text": [
      "__repr__\n",
      "time diff:12.241769313812256\n",
      "deployedStatus:None\n",
      "{'baseModel': {'id': '86', 'score': 0.9555555555555556, 'trainScore': 0.9523809523809523, 'validScore': 0.9555555555555556, 'testScore': 0.0, 'estimatorName': 'xgboost', 'generator': 'optuna-pycaret', 'file': {'size': '146773', 'sizeHumanized': '146.8 kB'}, 'deployedStatus': None}}\n"
     ]
    },
    {
     "data": {
      "text/plain": [
       "Model{'id': '86', 'score': 0.9555555555555556, 'trainScore': 0.9523809523809523, 'validScore': 0.9555555555555556, 'testScore': 0.0, 'estimatorName': 'xgboost', 'generator': 'optuna-pycaret', 'file': {'size': '146773', 'sizeHumanized': '146.8 kB'}, 'deployedStatus': None}"
      ]
     },
     "execution_count": 12,
     "metadata": {},
     "output_type": "execute_result"
    }
   ],
   "source": [
    "# 두 번째 순위 높은 모델 선택 (Best Model은 Run후 자동배포되므로..)\n",
    "model = leaderboard[2]\n",
    "model"
   ]
  },
  {
   "cell_type": "code",
   "execution_count": 13,
   "id": "absent-productivity",
   "metadata": {},
   "outputs": [
    {
     "name": "stdout",
     "output_type": "stream",
     "text": [
      "__repr__\n",
      "time diff:7.399435758590698\n",
      "deployedStatus:None\n"
     ]
    },
    {
     "data": {
      "text/plain": [
       "Model{'id': '86', 'score': 0.9555555555555556, 'trainScore': 0.9523809523809523, 'validScore': 0.9555555555555556, 'testScore': 0.0, 'estimatorName': 'xgboost', 'generator': 'optuna-pycaret', 'file': {'size': '146773', 'sizeHumanized': '146.8 kB'}, 'deployedStatus': None}"
      ]
     },
     "execution_count": 13,
     "metadata": {},
     "output_type": "execute_result"
    }
   ],
   "source": [
    "model"
   ]
  },
  {
   "cell_type": "code",
   "execution_count": 17,
   "id": "falling-driving",
   "metadata": {},
   "outputs": [
    {
     "name": "stdout",
     "output_type": "stream",
     "text": [
      "{'deployModel': {'deployment': {'id': '3', 'model': {'id': '85', '__typename': 'MlModelBaseType', 'deployedStatus': 'REQUEST'}}}}\n"
     ]
    }
   ],
   "source": [
    "# 모델 배포\n",
    "model.deploy()"
   ]
  },
  {
   "cell_type": "code",
   "execution_count": 18,
   "id": "conceptual-radiation",
   "metadata": {},
   "outputs": [
    {
     "name": "stdout",
     "output_type": "stream",
     "text": [
      "배포된 모델은 2개 입니다.\n"
     ]
    },
    {
     "data": {
      "text/plain": [
       "[{'id': '3',\n",
       "  'name': 'xgboost',\n",
       "  'description': None,\n",
       "  'status': 'DONE',\n",
       "  'modelType': 'model',\n",
       "  'modelPk': 85,\n",
       "  'allMetricsJson': None,\n",
       "  'createdAt': '2021-02-25T17:59:50.005110',\n",
       "  'testScore': None,\n",
       "  'model': {'id': '85',\n",
       "   'trainScore': 0.9523809523809523,\n",
       "   'validScore': 0.9555555555555556},\n",
       "  'file': {'url': 'http://localhost:8000/media/experiment_0004/experimentprocess_0019/output/pipeline.pkl',\n",
       "   'size': '147369',\n",
       "   'sizeHumanized': '147.4 kB',\n",
       "   'name': 'experiment_0004/experimentprocess_0019/output/pipeline.pkl'}},\n",
       " {'id': '2',\n",
       "  'name': 'xgboost',\n",
       "  'description': None,\n",
       "  'status': 'DONE',\n",
       "  'modelType': 'model',\n",
       "  'modelPk': 83,\n",
       "  'allMetricsJson': None,\n",
       "  'createdAt': '2021-02-25T16:59:41.521299',\n",
       "  'testScore': None,\n",
       "  'model': {'id': '83',\n",
       "   'trainScore': 0.9523809523809523,\n",
       "   'validScore': 0.9555555555555556},\n",
       "  'file': {'url': 'http://localhost:8000/media/experiment_0004/experimentprocess_0014/output/pipeline.pkl',\n",
       "   'size': '147371',\n",
       "   'sizeHumanized': '147.4 kB',\n",
       "   'name': 'experiment_0004/experimentprocess_0014/output/pipeline.pkl'}}]"
      ]
     },
     "execution_count": 18,
     "metadata": {},
     "output_type": "execute_result"
    }
   ],
   "source": [
    "# Deployment 정보 구해오기 \n",
    "deployments = experiment.deployments()\n",
    "print(f'배포된 모델은 {len(deployments)}개 입니다.')\n",
    "deployments"
   ]
  },
  {
   "cell_type": "code",
   "execution_count": 19,
   "id": "choice-dragon",
   "metadata": {},
   "outputs": [
    {
     "data": {
      "text/plain": [
       "{'id': '3',\n",
       " 'name': 'xgboost',\n",
       " 'description': None,\n",
       " 'status': 'DONE',\n",
       " 'modelType': 'model',\n",
       " 'modelPk': 85,\n",
       " 'allMetricsJson': None,\n",
       " 'createdAt': '2021-02-25T17:59:50.005110',\n",
       " 'testScore': None,\n",
       " 'model': {'id': '85',\n",
       "  'trainScore': 0.9523809523809523,\n",
       "  'validScore': 0.9555555555555556},\n",
       " 'file': {'url': 'http://localhost:8000/media/experiment_0004/experimentprocess_0019/output/pipeline.pkl',\n",
       "  'size': '147369',\n",
       "  'sizeHumanized': '147.4 kB',\n",
       "  'name': 'experiment_0004/experimentprocess_0019/output/pipeline.pkl'}}"
      ]
     },
     "execution_count": 19,
     "metadata": {},
     "output_type": "execute_result"
    }
   ],
   "source": [
    "deployed_model = deployments[0]\n",
    "deployed_model"
   ]
  },
  {
   "cell_type": "code",
   "execution_count": 20,
   "id": "reduced-terror",
   "metadata": {},
   "outputs": [
    {
     "data": {
      "text/plain": [
       "{'sepal.length': '5.0',\n",
       " 'sepal.width': '3.0',\n",
       " 'petal.length': '1.5',\n",
       " 'petal.width': '0.2'}"
      ]
     },
     "execution_count": 20,
     "metadata": {},
     "output_type": "execute_result"
    }
   ],
   "source": [
    "# 모델 예측을 위해 Default값인 최빈값을 구함\n",
    "columns = experiment.column_info()\n",
    "most_frequent = columns.most_frequent_values()\n",
    "most_frequent"
   ]
  },
  {
   "cell_type": "code",
   "execution_count": 21,
   "id": "prompt-positive",
   "metadata": {},
   "outputs": [
    {
     "data": {
      "text/plain": [
       "{'sepal.length': '5.0',\n",
       " 'sepal.width': '3.0',\n",
       " 'petal.length': '1.5',\n",
       " 'petal.width': '0.2'}"
      ]
     },
     "execution_count": 21,
     "metadata": {},
     "output_type": "execute_result"
    }
   ],
   "source": [
    "# 예측을 위한 input 값 생성 (그냥 최빈값 사용)\n",
    "input_val = most_frequent\n",
    "input_val "
   ]
  },
  {
   "cell_type": "code",
   "execution_count": 22,
   "id": "arabic-republican",
   "metadata": {},
   "outputs": [
    {
     "data": {
      "text/plain": [
       "'Setosa'"
      ]
     },
     "execution_count": 22,
     "metadata": {},
     "output_type": "execute_result"
    }
   ],
   "source": [
    "# 예측 \n",
    "predict_val = deployed_model.predict(input_val)\n",
    "predict_val"
   ]
  },
  {
   "cell_type": "code",
   "execution_count": null,
   "id": "designed-basis",
   "metadata": {},
   "outputs": [],
   "source": []
  },
  {
   "cell_type": "code",
   "execution_count": null,
   "id": "false-carrier",
   "metadata": {},
   "outputs": [],
   "source": []
  }
 ],
 "metadata": {
  "kernelspec": {
   "display_name": "Python 3",
   "language": "python",
   "name": "python3"
  },
  "language_info": {
   "codemirror_mode": {
    "name": "ipython",
    "version": 3
   },
   "file_extension": ".py",
   "mimetype": "text/x-python",
   "name": "python",
   "nbconvert_exporter": "python",
   "pygments_lexer": "ipython3",
   "version": "3.8.2"
  }
 },
 "nbformat": 4,
 "nbformat_minor": 5
}
