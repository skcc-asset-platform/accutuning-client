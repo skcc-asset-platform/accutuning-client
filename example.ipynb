{
 "cells": [
  {
   "cell_type": "code",
   "execution_count": 1,
   "id": "vertical-france",
   "metadata": {},
   "outputs": [],
   "source": [
    "from accutuning_client.client import Client"
   ]
  },
  {
   "cell_type": "code",
   "execution_count": 2,
   "id": "broken-plant",
   "metadata": {},
   "outputs": [],
   "source": [
    "client = Client('localhost', 8000)"
   ]
  },
  {
   "cell_type": "code",
   "execution_count": 3,
   "id": "compliant-library",
   "metadata": {},
   "outputs": [
    {
     "data": {
      "text/plain": [
       "True"
      ]
     },
     "execution_count": 3,
     "metadata": {},
     "output_type": "execute_result"
    }
   ],
   "source": [
    "client.login('autoinsight', 'autoinsight')"
   ]
  },
  {
   "cell_type": "code",
   "execution_count": 4,
   "id": "certain-forest",
   "metadata": {},
   "outputs": [
    {
     "name": "stdout",
     "output_type": "stream",
     "text": [
      "현재 Experiments는 총 3개 있습니다.\n"
     ]
    },
    {
     "data": {
      "text/plain": [
       "3 Experiments\n",
       "=======================\n",
       "Experiment(id=10, name=Experiment-10, dataset.name=iris1_jtzdihs, dataset.colCount=5, status=finished, estimatorType=CLASSIFIER, metric=ACCURACY, modelsCnt=28, deploymentsCnt=1)\n",
       "Experiment(id=2, name=Experiment-2, dataset.name=iris1, dataset.colCount=5, status=finished, estimatorType=CLASSIFIER, metric=ACCURACY, modelsCnt=28)\n",
       "Experiment(id=1, name=Experiment-1, dataset.name=diabetes2, dataset.colCount=11, status=finished, estimatorType=REGRESSOR, metric=NEG_MEAN_SQUARED_ERROR, modelsCnt=52, deploymentsCnt=2)"
      ]
     },
     "execution_count": 4,
     "metadata": {},
     "output_type": "execute_result"
    }
   ],
   "source": [
    "# Experiment의 List를 불러온다.\n",
    "experiments = client.experiments()\n",
    "print(f'현재 Experiments는 총 {len(experiments)}개 있습니다.')\n",
    "experiments"
   ]
  },
  {
   "cell_type": "code",
   "execution_count": 5,
   "id": "accessory-retrieval",
   "metadata": {},
   "outputs": [
    {
     "data": {
      "text/plain": [
       "Experiment(id=11, name=Experiment-11, status=creating, estimatorType=classifier, metric=accuracy)"
      ]
     },
     "execution_count": 5,
     "metadata": {},
     "output_type": "execute_result"
    }
   ],
   "source": [
    "# Local File에서 Experiment를 생성한다. \n",
    "experiment_new = client.create_experiment_from_file('/Users/ahaljh/Downloads/iris1.csv')\n",
    "experiment_new"
   ]
  },
  {
   "cell_type": "code",
   "execution_count": 8,
   "id": "transsexual-antigua",
   "metadata": {},
   "outputs": [
    {
     "data": {
      "text/plain": [
       "Experiment(id=11, name=Experiment-11, dataset.name=iris1_2mKwlW6, dataset.colCount=5, status=ready, estimatorType=CLASSIFIER, metric=ACCURACY)"
      ]
     },
     "execution_count": 8,
     "metadata": {},
     "output_type": "execute_result"
    }
   ],
   "source": [
    "experiment_new"
   ]
  },
  {
   "cell_type": "code",
   "execution_count": 9,
   "id": "copyrighted-congress",
   "metadata": {},
   "outputs": [],
   "source": [
    "# 전처리를 추천받아 preprocessor config를 변경 \n",
    "experiment_new.preprocessor_config_recommend()"
   ]
  },
  {
   "cell_type": "code",
   "execution_count": 10,
   "id": "magnetic-camping",
   "metadata": {},
   "outputs": [],
   "source": [
    "# 지정한 config 설정대로 전처리를 실시\n",
    "experiment_new.preprocess()"
   ]
  },
  {
   "cell_type": "code",
   "execution_count": 12,
   "id": "patient-timer",
   "metadata": {},
   "outputs": [
    {
     "data": {
      "text/plain": [
       "True"
      ]
     },
     "execution_count": 12,
     "metadata": {},
     "output_type": "execute_result"
    }
   ],
   "source": [
    "# Run AutoML\n",
    "experiment_new.run()"
   ]
  },
  {
   "cell_type": "code",
   "execution_count": 13,
   "id": "deluxe-croatia",
   "metadata": {},
   "outputs": [
    {
     "name": "stdout",
     "output_type": "stream",
     "text": [
      "현재 Experiments는 총 4개 있습니다.\n"
     ]
    },
    {
     "data": {
      "text/plain": [
       "4 Experiments\n",
       "=======================\n",
       "Experiment(id=11, name=Experiment-11, dataset.name=iris1_2mKwlW6, dataset.colCount=5, status=learning, estimatorType=CLASSIFIER, metric=ACCURACY, modelsCnt=3)\n",
       "Experiment(id=10, name=Experiment-10, dataset.name=iris1_jtzdihs, dataset.colCount=5, status=finished, estimatorType=CLASSIFIER, metric=ACCURACY, modelsCnt=28, deploymentsCnt=1)\n",
       "Experiment(id=2, name=Experiment-2, dataset.name=iris1, dataset.colCount=5, status=finished, estimatorType=CLASSIFIER, metric=ACCURACY, modelsCnt=28)\n",
       "Experiment(id=1, name=Experiment-1, dataset.name=diabetes2, dataset.colCount=11, status=finished, estimatorType=REGRESSOR, metric=NEG_MEAN_SQUARED_ERROR, modelsCnt=52, deploymentsCnt=2)"
      ]
     },
     "execution_count": 13,
     "metadata": {},
     "output_type": "execute_result"
    }
   ],
   "source": [
    "# Experiment의 List를 불러온다.\n",
    "experiments = client.experiments()\n",
    "print(f'현재 Experiments는 총 {len(experiments)}개 있습니다.')\n",
    "experiments"
   ]
  },
  {
   "cell_type": "code",
   "execution_count": 14,
   "id": "sweet-logistics",
   "metadata": {},
   "outputs": [
    {
     "data": {
      "text/plain": [
       "Experiment(id=10, name=Experiment-10, dataset.name=iris1_jtzdihs, dataset.colCount=5, status=finished, estimatorType=CLASSIFIER, metric=ACCURACY, modelsCnt=28, deploymentsCnt=1)"
      ]
     },
     "execution_count": 14,
     "metadata": {},
     "output_type": "execute_result"
    }
   ],
   "source": [
    "# 시간이 오래 걸리니까 완료된 experiment를 다시 선택\n",
    "experiment = experiments.get(id=10)\n",
    "# experiment = experiments[1]  # 이 형태도 가능함\n",
    "experiment"
   ]
  },
  {
   "cell_type": "code",
   "execution_count": 15,
   "id": "incoming-warehouse",
   "metadata": {},
   "outputs": [
    {
     "name": "stdout",
     "output_type": "stream",
     "text": [
      "leaderboad의 model 갯수는 28\n"
     ]
    },
    {
     "data": {
      "text/plain": [
       "[{'id': '197',\n",
       "  'score': 1.0,\n",
       "  'trainScore': 1.0,\n",
       "  'validScore': 1.0,\n",
       "  'testScore': 0.0,\n",
       "  'estimatorName': 'lightgbm',\n",
       "  'generator': 'optuna-pycaret',\n",
       "  'file': {'size': '784667', 'sizeHumanized': '784.7 kB'},\n",
       "  'deployedStatus': 'DONE'},\n",
       " {'id': '199',\n",
       "  'score': 1.0,\n",
       "  'trainScore': 0.9523809523809523,\n",
       "  'validScore': 1.0,\n",
       "  'testScore': 0.0,\n",
       "  'estimatorName': 'random_forest',\n",
       "  'generator': 'optuna-pycaret',\n",
       "  'file': {'size': '129325', 'sizeHumanized': '129.3 kB'},\n",
       "  'deployedStatus': None},\n",
       " {'id': '200',\n",
       "  'score': 1.0,\n",
       "  'trainScore': 0.9238095238095239,\n",
       "  'validScore': 1.0,\n",
       "  'testScore': 0.0,\n",
       "  'estimatorName': 'xgboost',\n",
       "  'generator': 'optuna-pycaret',\n",
       "  'file': {'size': '139255', 'sizeHumanized': '139.3 kB'},\n",
       "  'deployedStatus': None},\n",
       " {'id': '202',\n",
       "  'score': 1.0,\n",
       "  'trainScore': 0.9904761904761905,\n",
       "  'validScore': 1.0,\n",
       "  'testScore': 0.0,\n",
       "  'estimatorName': 'gradient_boosting',\n",
       "  'generator': 'optuna-pycaret',\n",
       "  'file': {'size': '408021', 'sizeHumanized': '408.0 kB'},\n",
       "  'deployedStatus': None},\n",
       " {'id': '205',\n",
       "  'score': 1.0,\n",
       "  'trainScore': 0.9619047619047619,\n",
       "  'validScore': 1.0,\n",
       "  'testScore': 0.0,\n",
       "  'estimatorName': 'logistic_regression',\n",
       "  'generator': 'optuna-pycaret',\n",
       "  'file': {'size': '1533', 'sizeHumanized': '1.5 kB'},\n",
       "  'deployedStatus': None},\n",
       " {'id': '206',\n",
       "  'score': 1.0,\n",
       "  'trainScore': 0.9523809523809523,\n",
       "  'validScore': 1.0,\n",
       "  'testScore': 0.0,\n",
       "  'estimatorName': 'random_forest',\n",
       "  'generator': 'optuna-pycaret',\n",
       "  'file': {'size': '152540', 'sizeHumanized': '152.5 kB'},\n",
       "  'deployedStatus': None},\n",
       " {'id': '208',\n",
       "  'score': 1.0,\n",
       "  'trainScore': 0.9619047619047619,\n",
       "  'validScore': 1.0,\n",
       "  'testScore': 0.0,\n",
       "  'estimatorName': 'random_forest',\n",
       "  'generator': 'optuna-pycaret',\n",
       "  'file': {'size': '105271', 'sizeHumanized': '105.3 kB'},\n",
       "  'deployedStatus': None},\n",
       " {'id': '209',\n",
       "  'score': 1.0,\n",
       "  'trainScore': 0.9809523809523809,\n",
       "  'validScore': 1.0,\n",
       "  'testScore': 0.0,\n",
       "  'estimatorName': 'logistic_regression',\n",
       "  'generator': 'optuna-pycaret',\n",
       "  'file': {'size': '2006', 'sizeHumanized': '2.0 kB'},\n",
       "  'deployedStatus': None},\n",
       " {'id': '210',\n",
       "  'score': 1.0,\n",
       "  'trainScore': 0.9809523809523809,\n",
       "  'validScore': 1.0,\n",
       "  'testScore': 0.0,\n",
       "  'estimatorName': 'logistic_regression',\n",
       "  'generator': 'optuna-pycaret',\n",
       "  'file': {'size': '1535', 'sizeHumanized': '1.5 kB'},\n",
       "  'deployedStatus': None},\n",
       " {'id': '211',\n",
       "  'score': 1.0,\n",
       "  'trainScore': 0.9809523809523809,\n",
       "  'validScore': 1.0,\n",
       "  'testScore': 0.0,\n",
       "  'estimatorName': 'logistic_regression',\n",
       "  'generator': 'optuna-pycaret',\n",
       "  'file': {'size': '1535', 'sizeHumanized': '1.5 kB'},\n",
       "  'deployedStatus': None},\n",
       " {'id': '212',\n",
       "  'score': 1.0,\n",
       "  'trainScore': 0.9619047619047619,\n",
       "  'validScore': 1.0,\n",
       "  'testScore': 0.0,\n",
       "  'estimatorName': 'logistic_regression',\n",
       "  'generator': 'optuna-pycaret',\n",
       "  'file': {'size': '1533', 'sizeHumanized': '1.5 kB'},\n",
       "  'deployedStatus': None},\n",
       " {'id': '213',\n",
       "  'score': 1.0,\n",
       "  'trainScore': 0.9809523809523809,\n",
       "  'validScore': 1.0,\n",
       "  'testScore': 0.0,\n",
       "  'estimatorName': 'logistic_regression',\n",
       "  'generator': 'optuna-pycaret',\n",
       "  'file': {'size': '1535', 'sizeHumanized': '1.5 kB'},\n",
       "  'deployedStatus': None},\n",
       " {'id': '214',\n",
       "  'score': 1.0,\n",
       "  'trainScore': 0.9619047619047619,\n",
       "  'validScore': 1.0,\n",
       "  'testScore': 0.0,\n",
       "  'estimatorName': 'logistic_regression',\n",
       "  'generator': 'optuna-pycaret',\n",
       "  'file': {'size': '1530', 'sizeHumanized': '1.5 kB'},\n",
       "  'deployedStatus': None},\n",
       " {'id': '216',\n",
       "  'score': 1.0,\n",
       "  'trainScore': 0.9333333333333333,\n",
       "  'validScore': 1.0,\n",
       "  'testScore': 0.0,\n",
       "  'estimatorName': 'random_forest',\n",
       "  'generator': 'optuna-pycaret',\n",
       "  'file': {'size': '76640', 'sizeHumanized': '76.6 kB'},\n",
       "  'deployedStatus': None},\n",
       " {'id': '217',\n",
       "  'score': 1.0,\n",
       "  'trainScore': 0.9619047619047619,\n",
       "  'validScore': 1.0,\n",
       "  'testScore': 0.0,\n",
       "  'estimatorName': 'logistic_regression',\n",
       "  'generator': 'optuna-pycaret',\n",
       "  'file': {'size': '2004', 'sizeHumanized': '2.0 kB'},\n",
       "  'deployedStatus': None},\n",
       " {'id': '218',\n",
       "  'score': 1.0,\n",
       "  'trainScore': 0.9619047619047619,\n",
       "  'validScore': 1.0,\n",
       "  'testScore': 0.0,\n",
       "  'estimatorName': 'logistic_regression',\n",
       "  'generator': 'optuna-pycaret',\n",
       "  'file': {'size': '1533', 'sizeHumanized': '1.5 kB'},\n",
       "  'deployedStatus': None},\n",
       " {'id': '219',\n",
       "  'score': 1.0,\n",
       "  'trainScore': 0.9619047619047619,\n",
       "  'validScore': 1.0,\n",
       "  'testScore': 0.0,\n",
       "  'estimatorName': 'logistic_regression',\n",
       "  'generator': 'optuna-pycaret',\n",
       "  'file': {'size': '2004', 'sizeHumanized': '2.0 kB'},\n",
       "  'deployedStatus': None},\n",
       " {'id': '220',\n",
       "  'score': 1.0,\n",
       "  'trainScore': 0.9809523809523809,\n",
       "  'validScore': 1.0,\n",
       "  'testScore': 0.0,\n",
       "  'estimatorName': 'logistic_regression',\n",
       "  'generator': 'optuna-pycaret',\n",
       "  'file': {'size': '2006', 'sizeHumanized': '2.0 kB'},\n",
       "  'deployedStatus': None},\n",
       " {'id': '221',\n",
       "  'score': 1.0,\n",
       "  'trainScore': 0.9333333333333333,\n",
       "  'validScore': 1.0,\n",
       "  'testScore': 0.0,\n",
       "  'estimatorName': 'random_forest',\n",
       "  'generator': 'optuna-pycaret',\n",
       "  'file': {'size': '76640', 'sizeHumanized': '76.6 kB'},\n",
       "  'deployedStatus': None},\n",
       " {'id': '222',\n",
       "  'score': 1.0,\n",
       "  'trainScore': 0.9619047619047619,\n",
       "  'validScore': 1.0,\n",
       "  'testScore': 0.0,\n",
       "  'estimatorName': 'logistic_regression',\n",
       "  'generator': 'optuna-pycaret',\n",
       "  'file': {'size': '2004', 'sizeHumanized': '2.0 kB'},\n",
       "  'deployedStatus': None},\n",
       " {'id': '223',\n",
       "  'score': 1.0,\n",
       "  'trainScore': 0.9333333333333333,\n",
       "  'validScore': 1.0,\n",
       "  'testScore': 0.0,\n",
       "  'estimatorName': 'random_forest',\n",
       "  'generator': 'optuna-pycaret',\n",
       "  'file': {'size': '76341', 'sizeHumanized': '76.3 kB'},\n",
       "  'deployedStatus': None},\n",
       " {'id': '203',\n",
       "  'score': 0.9777777777777777,\n",
       "  'trainScore': 0.9428571428571428,\n",
       "  'validScore': 0.9777777777777777,\n",
       "  'testScore': 0.0,\n",
       "  'estimatorName': 'decision_tree',\n",
       "  'generator': 'optuna-pycaret',\n",
       "  'file': {'size': '2686', 'sizeHumanized': '2.7 kB'},\n",
       "  'deployedStatus': None},\n",
       " {'id': '207',\n",
       "  'score': 0.9777777777777777,\n",
       "  'trainScore': 0.9428571428571428,\n",
       "  'validScore': 0.9777777777777777,\n",
       "  'testScore': 0.0,\n",
       "  'estimatorName': 'random_forest',\n",
       "  'generator': 'optuna-pycaret',\n",
       "  'file': {'size': '109919', 'sizeHumanized': '109.9 kB'},\n",
       "  'deployedStatus': None},\n",
       " {'id': '215',\n",
       "  'score': 0.9777777777777777,\n",
       "  'trainScore': 1.0,\n",
       "  'validScore': 0.9777777777777777,\n",
       "  'testScore': 0.0,\n",
       "  'estimatorName': 'libsvm_svc',\n",
       "  'generator': 'optuna-pycaret',\n",
       "  'file': {'size': '3098', 'sizeHumanized': '3.1 kB'},\n",
       "  'deployedStatus': None},\n",
       " {'id': '198',\n",
       "  'score': 0.7111111111111111,\n",
       "  'trainScore': 0.6476190476190476,\n",
       "  'validScore': 0.7111111111111111,\n",
       "  'testScore': 0.0,\n",
       "  'estimatorName': 'decision_tree',\n",
       "  'generator': 'optuna-pycaret',\n",
       "  'file': {'size': '2211', 'sizeHumanized': '2.2 kB'},\n",
       "  'deployedStatus': None},\n",
       " {'id': '204',\n",
       "  'score': 0.5555555555555556,\n",
       "  'trainScore': 0.6190476190476191,\n",
       "  'validScore': 0.5555555555555556,\n",
       "  'testScore': 0.0,\n",
       "  'estimatorName': 'libsvm_svc',\n",
       "  'generator': 'optuna-pycaret',\n",
       "  'file': {'size': '9549', 'sizeHumanized': '9.5 kB'},\n",
       "  'deployedStatus': None},\n",
       " {'id': '196',\n",
       "  'score': 0.28888888888888886,\n",
       "  'trainScore': 0.3523809523809524,\n",
       "  'validScore': 0.28888888888888886,\n",
       "  'testScore': 0.0,\n",
       "  'estimatorName': 'xgboost',\n",
       "  'generator': 'optuna-pycaret',\n",
       "  'file': {'size': '132690', 'sizeHumanized': '132.7 kB'},\n",
       "  'deployedStatus': None},\n",
       " {'id': '201',\n",
       "  'score': 0.28888888888888886,\n",
       "  'trainScore': 0.3523809523809524,\n",
       "  'validScore': 0.28888888888888886,\n",
       "  'testScore': 0.0,\n",
       "  'estimatorName': 'gradient_boosting',\n",
       "  'generator': 'optuna-pycaret',\n",
       "  'file': {'size': '156931', 'sizeHumanized': '156.9 kB'},\n",
       "  'deployedStatus': None}]"
      ]
     },
     "execution_count": 15,
     "metadata": {},
     "output_type": "execute_result"
    }
   ],
   "source": [
    "# Leaderboard 정보 구해오기 \n",
    "leaderboard = experiment.leaderboard()\n",
    "print(f'leaderboad의 model 갯수는 {len(leaderboard)}')\n",
    "leaderboard"
   ]
  },
  {
   "cell_type": "code",
   "execution_count": 16,
   "id": "monthly-sullivan",
   "metadata": {},
   "outputs": [
    {
     "data": {
      "text/plain": [
       "{'id': '197',\n",
       " 'score': 1.0,\n",
       " 'trainScore': 1.0,\n",
       " 'validScore': 1.0,\n",
       " 'testScore': 0.0,\n",
       " 'estimatorName': 'lightgbm',\n",
       " 'generator': 'optuna-pycaret',\n",
       " 'file': {'size': '784667', 'sizeHumanized': '784.7 kB'},\n",
       " 'deployedStatus': 'DONE'}"
      ]
     },
     "execution_count": 16,
     "metadata": {},
     "output_type": "execute_result"
    }
   ],
   "source": [
    "# 가장 순위 높은 모델 선택\n",
    "model = leaderboard.best_model()\n",
    "# model = leaderboard[0]  # 이 형태도 가능함\n",
    "model"
   ]
  },
  {
   "cell_type": "code",
   "execution_count": 17,
   "id": "alpine-partnership",
   "metadata": {},
   "outputs": [
    {
     "data": {
      "text/plain": [
       "{'id': '199',\n",
       " 'score': 1.0,\n",
       " 'trainScore': 0.9523809523809523,\n",
       " 'validScore': 1.0,\n",
       " 'testScore': 0.0,\n",
       " 'estimatorName': 'random_forest',\n",
       " 'generator': 'optuna-pycaret',\n",
       " 'file': {'size': '129325', 'sizeHumanized': '129.3 kB'},\n",
       " 'deployedStatus': None}"
      ]
     },
     "execution_count": 17,
     "metadata": {},
     "output_type": "execute_result"
    }
   ],
   "source": [
    "# 두 번째 순위 높은 모델 선택 (Best Model은 Run후 자동배포되므로..)\n",
    "model = leaderboard[1]\n",
    "model"
   ]
  },
  {
   "cell_type": "code",
   "execution_count": 18,
   "id": "falling-driving",
   "metadata": {},
   "outputs": [
    {
     "name": "stdout",
     "output_type": "stream",
     "text": [
      "{'deployModel': {'deployment': {'id': '9', 'model': {'id': '199', '__typename': 'MlModelBaseType', 'deployedStatus': 'REQUEST'}}}}\n"
     ]
    }
   ],
   "source": [
    "# 모델 배포\n",
    "model.deploy()"
   ]
  },
  {
   "cell_type": "code",
   "execution_count": 19,
   "id": "conceptual-radiation",
   "metadata": {},
   "outputs": [
    {
     "name": "stdout",
     "output_type": "stream",
     "text": [
      "배포된 모델은 2개 입니다.\n"
     ]
    },
    {
     "data": {
      "text/plain": [
       "[{'id': '9',\n",
       "  'name': 'random_forest',\n",
       "  'description': None,\n",
       "  'status': 'DEPLOYING',\n",
       "  'modelType': 'model',\n",
       "  'modelPk': 199,\n",
       "  'allMetricsJson': None,\n",
       "  'createdAt': '2021-02-15T17:20:03.249821',\n",
       "  'testScore': None,\n",
       "  'model': {'id': '199', 'trainScore': 0.9523809523809523, 'validScore': 1.0},\n",
       "  'file': {'url': None, 'size': None, 'sizeHumanized': None, 'name': ''}},\n",
       " {'id': '8',\n",
       "  'name': 'lightgbm',\n",
       "  'description': None,\n",
       "  'status': 'DONE',\n",
       "  'modelType': 'model',\n",
       "  'modelPk': 197,\n",
       "  'allMetricsJson': None,\n",
       "  'createdAt': '2021-02-15T17:18:05.064582',\n",
       "  'testScore': None,\n",
       "  'model': {'id': '197', 'trainScore': 1.0, 'validScore': 1.0},\n",
       "  'file': {'url': 'http://localhost:8000/media/runtime_0010/runtimeprocess_0045/output/pipeline.pkl',\n",
       "   'size': '784977',\n",
       "   'sizeHumanized': '785.0 kB',\n",
       "   'name': 'runtime_0010/runtimeprocess_0045/output/pipeline.pkl'}}]"
      ]
     },
     "execution_count": 19,
     "metadata": {},
     "output_type": "execute_result"
    }
   ],
   "source": [
    "# Deployment 정보 구해오기 \n",
    "deployments = experiment.deployments()\n",
    "print(f'배포된 모델은 {len(deployments)}개 입니다.')\n",
    "deployments"
   ]
  },
  {
   "cell_type": "code",
   "execution_count": 20,
   "id": "choice-dragon",
   "metadata": {},
   "outputs": [
    {
     "data": {
      "text/plain": [
       "{'id': '9',\n",
       " 'name': 'random_forest',\n",
       " 'description': None,\n",
       " 'status': 'DEPLOYING',\n",
       " 'modelType': 'model',\n",
       " 'modelPk': 199,\n",
       " 'allMetricsJson': None,\n",
       " 'createdAt': '2021-02-15T17:20:03.249821',\n",
       " 'testScore': None,\n",
       " 'model': {'id': '199', 'trainScore': 0.9523809523809523, 'validScore': 1.0},\n",
       " 'file': {'url': None, 'size': None, 'sizeHumanized': None, 'name': ''}}"
      ]
     },
     "execution_count": 20,
     "metadata": {},
     "output_type": "execute_result"
    }
   ],
   "source": [
    "deployed_model = deployments[0]\n",
    "deployed_model"
   ]
  },
  {
   "cell_type": "code",
   "execution_count": 21,
   "id": "reduced-terror",
   "metadata": {},
   "outputs": [
    {
     "data": {
      "text/plain": [
       "{'sepal length (cm)': '5.0',\n",
       " 'sepal width (cm)': '3.0',\n",
       " 'petal length (cm)': '1.5',\n",
       " 'petal width (cm)': '0.2'}"
      ]
     },
     "execution_count": 21,
     "metadata": {},
     "output_type": "execute_result"
    }
   ],
   "source": [
    "# 모델 예측을 위해 Default값인 최빈값을 구함\n",
    "columns = experiment.column_info()\n",
    "most_frequent = columns.most_frequent_values()\n",
    "most_frequent"
   ]
  },
  {
   "cell_type": "code",
   "execution_count": 22,
   "id": "prompt-positive",
   "metadata": {},
   "outputs": [
    {
     "data": {
      "text/plain": [
       "{'sepal length (cm)': '5.0',\n",
       " 'sepal width (cm)': '3.0',\n",
       " 'petal length (cm)': '1.5',\n",
       " 'petal width (cm)': '0.2'}"
      ]
     },
     "execution_count": 22,
     "metadata": {},
     "output_type": "execute_result"
    }
   ],
   "source": [
    "# 예측을 위한 input 값 생성 (그냥 최빈값 사용)\n",
    "input_val = most_frequent\n",
    "input_val "
   ]
  },
  {
   "cell_type": "code",
   "execution_count": 23,
   "id": "arabic-republican",
   "metadata": {},
   "outputs": [
    {
     "data": {
      "text/plain": [
       "'0.0'"
      ]
     },
     "execution_count": 23,
     "metadata": {},
     "output_type": "execute_result"
    }
   ],
   "source": [
    "# 예측 \n",
    "predict_val = deployed_model.predict(input_val)\n",
    "predict_val"
   ]
  },
  {
   "cell_type": "code",
   "execution_count": null,
   "id": "designed-basis",
   "metadata": {},
   "outputs": [],
   "source": []
  },
  {
   "cell_type": "code",
   "execution_count": null,
   "id": "false-carrier",
   "metadata": {},
   "outputs": [],
   "source": []
  }
 ],
 "metadata": {
  "kernelspec": {
   "display_name": "Python 3",
   "language": "python",
   "name": "python3"
  },
  "language_info": {
   "codemirror_mode": {
    "name": "ipython",
    "version": 3
   },
   "file_extension": ".py",
   "mimetype": "text/x-python",
   "name": "python",
   "nbconvert_exporter": "python",
   "pygments_lexer": "ipython3",
   "version": "3.8.2"
  }
 },
 "nbformat": 4,
 "nbformat_minor": 5
}
